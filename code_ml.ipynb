{
 "cells": [
  {
   "cell_type": "code",
   "execution_count": 1,
   "metadata": {},
   "outputs": [
    {
     "name": "stderr",
     "output_type": "stream",
     "text": [
      "a was unexpected at this time.\n"
     ]
    }
   ],
   "source": [
    "import os\n",
    "import time\n",
    "import numpy as np\n",
    "import pandas as pd\n",
    "\n",
    "import numpy as np\n",
    "from tqdm.notebook import tqdm\n",
    "\n",
    "import matplotlib.pyplot as plt\n",
    "\n",
    "from sklearn.model_selection import train_test_split\n",
    "from sklearn.preprocessing import normalize\n",
    "from sklearn.metrics import confusion_matrix\n",
    "\n",
    "import keras\n",
    "import tensorflow as tf \n",
    "from keras.models import Sequential\n",
    "from keras.layers import Dense\n",
    "     \n",
    "from keras import backend as K\n",
    "from keras.layers import Conv2D, MaxPooling2D, Dropout, Flatten, BatchNormalization\n",
    "\n",
    "from keras.callbacks import ModelCheckpoint\n",
    "import warnings\n",
    "warnings.filterwarnings('ignore')\n",
    "\n",
    "gpu_devices = tf.config.experimental.list_physical_devices('GPU')\n",
    "for device in gpu_devices:\n",
    "    tf.config.experimental.set_memory_growth(device, True)\n",
    "    \n",
    "! for a in /sys/bus/pci/devices/*; do echo 0 | sudo tee -a $a/numa_node; done"
   ]
  },
  {
   "cell_type": "code",
   "execution_count": 2,
   "metadata": {},
   "outputs": [
    {
     "name": "stdout",
     "output_type": "stream",
     "text": [
      "D:\\schizophrenia_code\\data\\data_part1\\columnLabels.csv\n",
      "D:\\schizophrenia_code\\data\\data_part1\\demographic.csv\n",
      "D:\\schizophrenia_code\\data\\data_part1\\ERPdata.csv\n",
      "D:\\schizophrenia_code\\data\\data_part1\\mergedTrialData.csv\n",
      "D:\\schizophrenia_code\\data\\data_part1\\time.csv\n",
      "D:\\schizophrenia_code\\data\\data_part1\\1.csv\\1.csv\n",
      "D:\\schizophrenia_code\\data\\data_part1\\10.csv\\10.csv\n",
      "D:\\schizophrenia_code\\data\\data_part1\\11.csv\\11.csv\n",
      "D:\\schizophrenia_code\\data\\data_part1\\12.csv\\12.csv\n",
      "D:\\schizophrenia_code\\data\\data_part1\\13.csv\\13.csv\n",
      "D:\\schizophrenia_code\\data\\data_part1\\14.csv\\14.csv\n",
      "D:\\schizophrenia_code\\data\\data_part1\\15.csv\\15.csv\n",
      "D:\\schizophrenia_code\\data\\data_part1\\16.csv\\16.csv\n",
      "D:\\schizophrenia_code\\data\\data_part1\\17.csv\\17.csv\n",
      "D:\\schizophrenia_code\\data\\data_part1\\18.csv\\18.csv\n",
      "D:\\schizophrenia_code\\data\\data_part1\\19.csv\\19.csv\n",
      "D:\\schizophrenia_code\\data\\data_part1\\2.csv\\2.csv\n",
      "D:\\schizophrenia_code\\data\\data_part1\\20.csv\\20.csv\n",
      "D:\\schizophrenia_code\\data\\data_part1\\21.csv\\21.csv\n",
      "D:\\schizophrenia_code\\data\\data_part1\\22.csv\\22.csv\n",
      "D:\\schizophrenia_code\\data\\data_part1\\23.csv\\23.csv\n",
      "D:\\schizophrenia_code\\data\\data_part1\\24.csv\\24.csv\n",
      "D:\\schizophrenia_code\\data\\data_part1\\3.csv\\3.csv\n",
      "D:\\schizophrenia_code\\data\\data_part1\\4.csv\\4.csv\n",
      "D:\\schizophrenia_code\\data\\data_part1\\5.csv\\5.csv\n",
      "D:\\schizophrenia_code\\data\\data_part1\\6.csv\\6.csv\n",
      "D:\\schizophrenia_code\\data\\data_part1\\66.csv\\66.csv\n",
      "D:\\schizophrenia_code\\data\\data_part1\\67.csv\\67.csv\n",
      "D:\\schizophrenia_code\\data\\data_part1\\68.csv\\68.csv\n",
      "D:\\schizophrenia_code\\data\\data_part1\\69.csv\\69.csv\n",
      "D:\\schizophrenia_code\\data\\data_part1\\7.csv\\7.csv\n",
      "D:\\schizophrenia_code\\data\\data_part1\\70.csv\\70.csv\n",
      "D:\\schizophrenia_code\\data\\data_part1\\71.csv\\71.csv\n",
      "D:\\schizophrenia_code\\data\\data_part1\\72.csv\\72.csv\n",
      "D:\\schizophrenia_code\\data\\data_part1\\73.csv\\73.csv\n",
      "D:\\schizophrenia_code\\data\\data_part1\\74.csv\\74.csv\n",
      "D:\\schizophrenia_code\\data\\data_part1\\75.csv\\75.csv\n",
      "D:\\schizophrenia_code\\data\\data_part1\\76.csv\\76.csv\n",
      "D:\\schizophrenia_code\\data\\data_part1\\77.csv\\77.csv\n",
      "D:\\schizophrenia_code\\data\\data_part1\\78.csv\\78.csv\n",
      "D:\\schizophrenia_code\\data\\data_part1\\79.csv\\79.csv\n",
      "D:\\schizophrenia_code\\data\\data_part1\\8.csv\\8.csv\n",
      "D:\\schizophrenia_code\\data\\data_part1\\80.csv\\80.csv\n",
      "D:\\schizophrenia_code\\data\\data_part1\\81.csv\\81.csv\n",
      "D:\\schizophrenia_code\\data\\data_part1\\9.csv\\9.csv\n",
      "D:\\schizophrenia_code\\data\\data_part2\\25.csv\\25.csv\n",
      "D:\\schizophrenia_code\\data\\data_part2\\26.csv\\26.csv\n",
      "D:\\schizophrenia_code\\data\\data_part2\\27.csv\\27.csv\n",
      "D:\\schizophrenia_code\\data\\data_part2\\28.csv\\28.csv\n",
      "D:\\schizophrenia_code\\data\\data_part2\\29.csv\\29.csv\n",
      "D:\\schizophrenia_code\\data\\data_part2\\30.csv\\30.csv\n",
      "D:\\schizophrenia_code\\data\\data_part2\\31.csv\\31.csv\n",
      "D:\\schizophrenia_code\\data\\data_part2\\32.csv\\32.csv\n",
      "D:\\schizophrenia_code\\data\\data_part2\\33.csv\\33.csv\n",
      "D:\\schizophrenia_code\\data\\data_part2\\34.csv\\34.csv\n",
      "D:\\schizophrenia_code\\data\\data_part2\\35.csv\\35.csv\n",
      "D:\\schizophrenia_code\\data\\data_part2\\36.csv\\36.csv\n",
      "D:\\schizophrenia_code\\data\\data_part2\\37.csv\\37.csv\n",
      "D:\\schizophrenia_code\\data\\data_part2\\38.csv\\38.csv\n",
      "D:\\schizophrenia_code\\data\\data_part2\\39.csv\\39.csv\n",
      "D:\\schizophrenia_code\\data\\data_part2\\40.csv\\40.csv\n",
      "D:\\schizophrenia_code\\data\\data_part2\\41.csv\\41.csv\n",
      "D:\\schizophrenia_code\\data\\data_part2\\42.csv\\42.csv\n",
      "D:\\schizophrenia_code\\data\\data_part2\\43.csv\\43.csv\n",
      "D:\\schizophrenia_code\\data\\data_part2\\44.csv\\44.csv\n",
      "D:\\schizophrenia_code\\data\\data_part2\\45.csv\\45.csv\n",
      "D:\\schizophrenia_code\\data\\data_part2\\46.csv\\46.csv\n",
      "D:\\schizophrenia_code\\data\\data_part2\\47.csv\\47.csv\n",
      "D:\\schizophrenia_code\\data\\data_part2\\48.csv\\48.csv\n",
      "D:\\schizophrenia_code\\data\\data_part2\\49.csv\\49.csv\n",
      "D:\\schizophrenia_code\\data\\data_part2\\50.csv\\50.csv\n",
      "D:\\schizophrenia_code\\data\\data_part2\\51.csv\\51.csv\n",
      "D:\\schizophrenia_code\\data\\data_part2\\52.csv\\52.csv\n",
      "D:\\schizophrenia_code\\data\\data_part2\\53.csv\\53.csv\n",
      "D:\\schizophrenia_code\\data\\data_part2\\54.csv\\54.csv\n",
      "D:\\schizophrenia_code\\data\\data_part2\\55.csv\\55.csv\n",
      "D:\\schizophrenia_code\\data\\data_part2\\56.csv\\56.csv\n",
      "D:\\schizophrenia_code\\data\\data_part2\\57.csv\\57.csv\n",
      "D:\\schizophrenia_code\\data\\data_part2\\58.csv\\58.csv\n",
      "D:\\schizophrenia_code\\data\\data_part2\\59.csv\\59.csv\n",
      "D:\\schizophrenia_code\\data\\data_part2\\60.csv\\60.csv\n",
      "D:\\schizophrenia_code\\data\\data_part2\\61.csv\\61.csv\n",
      "D:\\schizophrenia_code\\data\\data_part2\\62.csv\\62.csv\n",
      "D:\\schizophrenia_code\\data\\data_part2\\63.csv\\63.csv\n",
      "D:\\schizophrenia_code\\data\\data_part2\\64.csv\\64.csv\n",
      "D:\\schizophrenia_code\\data\\data_part2\\65.csv\\65.csv\n"
     ]
    }
   ],
   "source": [
    "for dirname, _, filenames in os.walk(\"D:\\schizophrenia_code\\data\"):\n",
    "    for filename in filenames:\n",
    "        print(os.path.join(dirname, filename))"
   ]
  },
  {
   "cell_type": "code",
   "execution_count": 3,
   "metadata": {},
   "outputs": [
    {
     "data": {
      "text/html": [
       "<div>\n",
       "<style scoped>\n",
       "    .dataframe tbody tr th:only-of-type {\n",
       "        vertical-align: middle;\n",
       "    }\n",
       "\n",
       "    .dataframe tbody tr th {\n",
       "        vertical-align: top;\n",
       "    }\n",
       "\n",
       "    .dataframe thead th {\n",
       "        text-align: right;\n",
       "    }\n",
       "</style>\n",
       "<table border=\"1\" class=\"dataframe\">\n",
       "  <thead>\n",
       "    <tr style=\"text-align: right;\">\n",
       "      <th></th>\n",
       "      <th>subject</th>\n",
       "      <th>group</th>\n",
       "      <th>gender</th>\n",
       "      <th>age</th>\n",
       "      <th>education</th>\n",
       "    </tr>\n",
       "  </thead>\n",
       "  <tbody>\n",
       "    <tr>\n",
       "      <th>0</th>\n",
       "      <td>1</td>\n",
       "      <td>0</td>\n",
       "      <td>M</td>\n",
       "      <td>44</td>\n",
       "      <td>16.0</td>\n",
       "    </tr>\n",
       "    <tr>\n",
       "      <th>1</th>\n",
       "      <td>2</td>\n",
       "      <td>0</td>\n",
       "      <td>M</td>\n",
       "      <td>39</td>\n",
       "      <td>17.0</td>\n",
       "    </tr>\n",
       "    <tr>\n",
       "      <th>2</th>\n",
       "      <td>3</td>\n",
       "      <td>0</td>\n",
       "      <td>M</td>\n",
       "      <td>53</td>\n",
       "      <td>18.0</td>\n",
       "    </tr>\n",
       "    <tr>\n",
       "      <th>3</th>\n",
       "      <td>4</td>\n",
       "      <td>0</td>\n",
       "      <td>M</td>\n",
       "      <td>52</td>\n",
       "      <td>15.0</td>\n",
       "    </tr>\n",
       "    <tr>\n",
       "      <th>4</th>\n",
       "      <td>5</td>\n",
       "      <td>0</td>\n",
       "      <td>M</td>\n",
       "      <td>41</td>\n",
       "      <td>16.0</td>\n",
       "    </tr>\n",
       "    <tr>\n",
       "      <th>...</th>\n",
       "      <td>...</td>\n",
       "      <td>...</td>\n",
       "      <td>...</td>\n",
       "      <td>...</td>\n",
       "      <td>...</td>\n",
       "    </tr>\n",
       "    <tr>\n",
       "      <th>76</th>\n",
       "      <td>77</td>\n",
       "      <td>1</td>\n",
       "      <td>M</td>\n",
       "      <td>28</td>\n",
       "      <td>13.0</td>\n",
       "    </tr>\n",
       "    <tr>\n",
       "      <th>77</th>\n",
       "      <td>78</td>\n",
       "      <td>1</td>\n",
       "      <td>F</td>\n",
       "      <td>32</td>\n",
       "      <td>16.0</td>\n",
       "    </tr>\n",
       "    <tr>\n",
       "      <th>78</th>\n",
       "      <td>79</td>\n",
       "      <td>1</td>\n",
       "      <td>M</td>\n",
       "      <td>37</td>\n",
       "      <td>16.0</td>\n",
       "    </tr>\n",
       "    <tr>\n",
       "      <th>79</th>\n",
       "      <td>80</td>\n",
       "      <td>1</td>\n",
       "      <td>M</td>\n",
       "      <td>33</td>\n",
       "      <td>13.0</td>\n",
       "    </tr>\n",
       "    <tr>\n",
       "      <th>80</th>\n",
       "      <td>81</td>\n",
       "      <td>1</td>\n",
       "      <td>M</td>\n",
       "      <td>56</td>\n",
       "      <td>13.0</td>\n",
       "    </tr>\n",
       "  </tbody>\n",
       "</table>\n",
       "<p>81 rows × 5 columns</p>\n",
       "</div>"
      ],
      "text/plain": [
       "    subject   group  gender   age   education\n",
       "0         1       0       M    44        16.0\n",
       "1         2       0       M    39        17.0\n",
       "2         3       0       M    53        18.0\n",
       "3         4       0       M    52        15.0\n",
       "4         5       0       M    41        16.0\n",
       "..      ...     ...     ...   ...         ...\n",
       "76       77       1       M    28        13.0\n",
       "77       78       1       F    32        16.0\n",
       "78       79       1       M    37        16.0\n",
       "79       80       1       M    33        13.0\n",
       "80       81       1       M    56        13.0\n",
       "\n",
       "[81 rows x 5 columns]"
      ]
     },
     "execution_count": 3,
     "metadata": {},
     "output_type": "execute_result"
    }
   ],
   "source": [
    "demographic = pd.read_csv(\"D:/schizophrenia_code/data/data_part1/demographic.csv\")\n",
    "demographic"
   ]
  },
  {
   "cell_type": "code",
   "execution_count": 4,
   "metadata": {},
   "outputs": [
    {
     "data": {
      "text/plain": [
       "0.6049382716049383"
      ]
     },
     "execution_count": 4,
     "metadata": {},
     "output_type": "execute_result"
    }
   ],
   "source": [
    "demographic[\" group\"].mean()"
   ]
  },
  {
   "cell_type": "code",
   "execution_count": 5,
   "metadata": {},
   "outputs": [
    {
     "data": {
      "text/plain": [
       " group\n",
       "1    49\n",
       "0    32\n",
       "Name: count, dtype: int64"
      ]
     },
     "execution_count": 5,
     "metadata": {},
     "output_type": "execute_result"
    }
   ],
   "source": [
    "demographic[\" group\"].value_counts()"
   ]
  },
  {
   "cell_type": "code",
   "execution_count": 6,
   "metadata": {},
   "outputs": [
    {
     "name": "stdout",
     "output_type": "stream",
     "text": [
      "0 - HEALTHY\n",
      "1 - HEALTHY\n",
      "2 - HEALTHY\n",
      "3 - HEALTHY\n",
      "4 - HEALTHY\n",
      "5 - HEALTHY\n",
      "6 - HEALTHY\n",
      "7 - HEALTHY\n",
      "8 - HEALTHY\n",
      "9 - HEALTHY\n",
      "10 - HEALTHY\n",
      "11 - HEALTHY\n",
      "12 - HEALTHY\n",
      "13 - HEALTHY\n",
      "14 - HEALTHY\n",
      "15 - HEALTHY\n",
      "16 - HEALTHY\n",
      "17 - HEALTHY\n",
      "18 - HEALTHY\n",
      "19 - HEALTHY\n",
      "20 - HEALTHY\n",
      "21 - HEALTHY\n",
      "22 - HEALTHY\n",
      "23 - HEALTHY\n",
      "24 - Schizophrenia\n",
      "25 - Schizophrenia\n",
      "26 - Schizophrenia\n",
      "27 - Schizophrenia\n",
      "28 - Schizophrenia\n",
      "29 - Schizophrenia\n",
      "30 - Schizophrenia\n",
      "31 - Schizophrenia\n",
      "32 - Schizophrenia\n",
      "33 - Schizophrenia\n",
      "34 - Schizophrenia\n",
      "35 - Schizophrenia\n",
      "36 - Schizophrenia\n",
      "37 - Schizophrenia\n",
      "38 - Schizophrenia\n",
      "39 - Schizophrenia\n",
      "40 - Schizophrenia\n",
      "41 - Schizophrenia\n",
      "42 - Schizophrenia\n",
      "43 - Schizophrenia\n",
      "44 - Schizophrenia\n",
      "45 - Schizophrenia\n",
      "46 - Schizophrenia\n",
      "47 - Schizophrenia\n",
      "48 - Schizophrenia\n",
      "49 - Schizophrenia\n",
      "50 - Schizophrenia\n",
      "51 - Schizophrenia\n",
      "52 - Schizophrenia\n",
      "53 - Schizophrenia\n",
      "54 - Schizophrenia\n",
      "55 - Schizophrenia\n",
      "56 - Schizophrenia\n",
      "57 - Schizophrenia\n",
      "58 - HEALTHY\n",
      "59 - HEALTHY\n",
      "60 - HEALTHY\n",
      "61 - HEALTHY\n",
      "62 - HEALTHY\n",
      "63 - HEALTHY\n",
      "64 - HEALTHY\n",
      "65 - HEALTHY\n",
      "66 - Schizophrenia\n",
      "67 - Schizophrenia\n",
      "68 - Schizophrenia\n",
      "69 - Schizophrenia\n",
      "70 - Schizophrenia\n",
      "71 - Schizophrenia\n",
      "72 - Schizophrenia\n",
      "73 - Schizophrenia\n",
      "74 - Schizophrenia\n",
      "75 - Schizophrenia\n",
      "76 - Schizophrenia\n",
      "77 - Schizophrenia\n",
      "78 - Schizophrenia\n",
      "79 - Schizophrenia\n",
      "80 - Schizophrenia\n"
     ]
    }
   ],
   "source": [
    "for i, t in enumerate(list(demographic[\" group\"])):\n",
    "    if t:\n",
    "        print(f\"{i} - Schizophrenia\")\n",
    "    else:\n",
    "        print(f\"{i} - HEALTHY\")"
   ]
  },
  {
   "cell_type": "code",
   "execution_count": 7,
   "metadata": {},
   "outputs": [],
   "source": [
    "diagnosis_dict = dict(zip(demographic.subject, demographic[\" group\"]))\n",
    "del demographic"
   ]
  },
  {
   "cell_type": "code",
   "execution_count": 8,
   "metadata": {},
   "outputs": [
    {
     "name": "stdout",
     "output_type": "stream",
     "text": [
      "Electrodes List \n",
      " ['Fp1', 'AF7', 'AF3', 'F1', 'F3', 'F5', 'F7', 'FT7', 'FC5', 'FC3', 'FC1', 'C1', 'C3', 'C5', 'T7', 'TP7', 'CP5', 'CP3', 'CP1', 'P1', 'P3', 'P5', 'P7', 'P9', 'PO7', 'PO3', 'O1', 'Iz', 'Oz', 'POz', 'Pz', 'CPz', 'Fpz', 'Fp2', 'AF8', 'AF4', 'AFz', 'Fz', 'F2', 'F4', 'F6', 'F8', 'FT8', 'FC6', 'FC4', 'FC2', 'FCz', 'Cz', 'C2', 'C4', 'C6', 'T8', 'TP8', 'CP6', 'CP4', 'CP2', 'P2', 'P4', 'P6', 'P8', 'P10', 'PO8', 'PO4', 'O2', 'VEOa', 'VEOb', 'HEOL', 'HEOR', 'Nose', 'TP10']\n"
     ]
    }
   ],
   "source": [
    "electrodes_list = list(pd.read_csv(\"D:\\schizophrenia_code\\data\\data_part1\\columnLabels.csv\").columns[4:])\n",
    "print(\"Electrodes List \\n\",electrodes_list)"
   ]
  },
  {
   "cell_type": "markdown",
   "metadata": {},
   "source": [
    "                                                                               DATA PRE-PROCESSING"
   ]
  },
  {
   "cell_type": "code",
   "execution_count": 9,
   "metadata": {},
   "outputs": [],
   "source": [
    "def averaged_by_N_rows(a, n):\n",
    "    \"\"\" \n",
    "    A function that averages n rows in a matrix\n",
    "    \"\"\"\n",
    "    shape = a.shape\n",
    "    assert len(shape) == 2\n",
    "    assert shape[0] % n == 0\n",
    "    b = a.reshape(shape[0] // n, n, \n",
    "                  shape[1])\n",
    "    mean_vec = b.mean(axis=1)\n",
    "    return mean_vec"
   ]
  },
  {
   "cell_type": "code",
   "execution_count": 10,
   "metadata": {},
   "outputs": [
    {
     "data": {
      "application/vnd.jupyter.widget-view+json": {
       "model_id": "4c8b2a1f03a54892962f4ea07752ae8e",
       "version_major": 2,
       "version_minor": 0
      },
      "text/plain": [
       "  0%|          | 0/81 [00:00<?, ?it/s]"
      ]
     },
     "metadata": {},
     "output_type": "display_data"
    },
    {
     "name": "stdout",
     "output_type": "stream",
     "text": [
      "Total trials with the Appropriate number of measurements -  7092\n",
      "Total trials with the Appropriate number of measurements-  7092\n"
     ]
    }
   ],
   "source": [
    "N_AVERAGED = 16\n",
    "X = np.zeros((81 * 100,  9216 * len(electrodes_list) // N_AVERAGED), dtype=\"float32\")\n",
    "Y = np.zeros(len(X))\n",
    "\n",
    "part1_path = \"D:\\schizophrenia_code\\data\\data_part1\"\n",
    "part2_path = \"D:\\schizophrenia_code\\data\\data_part2\"\n",
    "\n",
    "# We pull out only those experiments where there were 9216 measurements (most often named so many times)\n",
    "x_counter = 0\n",
    "column_list = pd.read_csv(\"D:\\schizophrenia_code\\data\\data_part1\\columnLabels.csv\").columns\n",
    "for person_number in tqdm(range(1, 81 + 1)):\n",
    "\n",
    "\n",
    "    csv_path = f\"{part1_path}/{person_number}.csv/{person_number}.csv\"\n",
    "    if not os.path.exists(csv_path):\n",
    "        csv_path = f\"{part2_path}/{person_number}.csv/{person_number}.csv\"\n",
    "    df = pd.read_csv(csv_path, \n",
    "                header=None,\n",
    "                names=column_list)\n",
    "    trials_list = set(df.trial)\n",
    "\n",
    "\n",
    "    for t1, trial_number in enumerate(trials_list):\n",
    "        number_of_trials = len(df[df.trial == trial_number])\n",
    "        if number_of_trials == 9216.0:\n",
    "            current_sample_matrix = df[df.trial == trial_number][electrodes_list].values\n",
    "            averaged_by_N = averaged_by_N_rows(current_sample_matrix, n=N_AVERAGED)\n",
    "            averaged_by_N_big_vec = averaged_by_N.reshape(-1)\n",
    "            X[x_counter] = averaged_by_N_big_vec.astype(np.float32)\n",
    "            Y[x_counter] = diagnosis_dict[person_number]\n",
    "            x_counter += 1\n",
    "print(\"Total trials with the Appropriate number of measurements - \", x_counter)\n",
    "X = X[: x_counter]\n",
    "Y = Y[: x_counter]\n",
    "        \n",
    "print(\"Total trials with the Appropriate number of measurements- \", x_counter)"
   ]
  },
  {
   "cell_type": "code",
   "execution_count": 11,
   "metadata": {},
   "outputs": [
    {
     "data": {
      "text/plain": [
       "(7092, 40320)"
      ]
     },
     "execution_count": 11,
     "metadata": {},
     "output_type": "execute_result"
    }
   ],
   "source": [
    "X.shape"
   ]
  },
  {
   "cell_type": "code",
   "execution_count": 12,
   "metadata": {},
   "outputs": [
    {
     "data": {
      "text/plain": [
       "(7092,)"
      ]
     },
     "execution_count": 12,
     "metadata": {},
     "output_type": "execute_result"
    }
   ],
   "source": [
    "Y.shape"
   ]
  },
  {
   "cell_type": "code",
   "execution_count": 13,
   "metadata": {},
   "outputs": [],
   "source": [
    "X_train, X_test, Y_train, Y_test = train_test_split(X, Y, test_size=0.2, shuffle=True, random_state=42)"
   ]
  },
  {
   "cell_type": "code",
   "execution_count": 14,
   "metadata": {},
   "outputs": [],
   "source": [
    "X_norm = (normalize(X.reshape(-1, 70), axis=0, norm='max')).reshape(X.shape)"
   ]
  },
  {
   "cell_type": "code",
   "execution_count": 15,
   "metadata": {},
   "outputs": [],
   "source": [
    "X_train_norm, X_test_norm, Y_train_norm, Y_test_norm = train_test_split(X_norm, Y, test_size=0.2, shuffle=True, random_state=42)"
   ]
  },
  {
   "cell_type": "code",
   "execution_count": 16,
   "metadata": {},
   "outputs": [],
   "source": [
    "X_norm = X"
   ]
  },
  {
   "cell_type": "code",
   "execution_count": 17,
   "metadata": {},
   "outputs": [],
   "source": [
    "X_train_2d = X_train_norm.reshape(X_train_norm.shape[0], len(electrodes_list), X_train_norm.shape[1] // len(electrodes_list), 1)\n",
    "X_train_2D = X_train_2d.reshape(X_train_2d.shape[0], -1)\n",
    "X_test_2d = X_test_norm.reshape(X_test_norm.shape[0], len(electrodes_list), X_test_norm.shape[1] // len(electrodes_list), 1)\n",
    "X_test_2D = X_test_2d.reshape(X_test_2d.shape[0], -1)"
   ]
  },
  {
   "cell_type": "code",
   "execution_count": null,
   "metadata": {},
   "outputs": [],
   "source": [
    "# from sklearn.decomposition import PCA\n",
    "\n",
    "# # Create a PCA object with the desired number of components (features)\n",
    "# n_components = 50  # Replace with the number of components you want\n",
    "# pca = PCA(n_components=n_components)\n",
    "\n",
    "# # Fit the PCA model to your data and transform the data\n",
    "# X_train_pca = pca.fit_transform(X_train_2D)\n",
    "# X_test_pca = pca.transform(X_test_2D)\n",
    "\n",
    "# # Now, X_train_pca and X_test_pca contain the reduced-dimensional data\n",
    "\n",
    "# # You can also access the explained variance ratio of each component\n",
    "# explained_variance_ratio = pca.explained_variance_ratio_"
   ]
  },
  {
   "cell_type": "code",
   "execution_count": null,
   "metadata": {},
   "outputs": [],
   "source": [
    "# from sklearn.model_selection import RandomizedSearchCV\n",
    "# from sklearn.svm import SVC\n",
    "# from scipy.stats import uniform, randint\n",
    "\n",
    "# # Define the hyperparameter search space\n",
    "# param_dist = {\n",
    "#     'C': uniform(loc=0, scale=10),  # Range of C values\n",
    "#     'kernel': ['linear', 'poly', 'rbf', 'sigmoid'],  # Kernel choices\n",
    "#     'degree': randint(2, 5),  # Degree of the polynomial kernel\n",
    "#     'gamma': ['scale', 'auto'] + list(np.logspace(-3, 3, 7)),  # Gamma values\n",
    "# }\n",
    "\n",
    "# # Create the SVM model\n",
    "# svm = SVC()\n",
    "\n",
    "# # Create a RandomizedSearchCV object\n",
    "# random_search = RandomizedSearchCV(estimator=svm, param_distributions=param_dist, n_iter=50, cv=5, n_jobs=-1, verbose=1, scoring='accuracy')\n",
    "\n",
    "# # Perform the RandomizedSearchCV\n",
    "# random_search.fit(X_train_pca, Y_train_norm)\n",
    "\n",
    "# # Print the best hyperparameters and corresponding accuracy\n",
    "# print(\"Best Hyperparameters:\", random_search.best_params_)\n",
    "# print(\"Best Accuracy:\", random_search.best_score_)"
   ]
  },
  {
   "cell_type": "markdown",
   "metadata": {},
   "source": [
    "                                                                              ML MODEL 1 : SUPPORT VECTOR MACHINE"
   ]
  },
  {
   "cell_type": "code",
   "execution_count": 18,
   "metadata": {},
   "outputs": [],
   "source": [
    "from sklearn.svm import SVC\n",
    "import matplotlib.pyplot as plt\n",
    "from sklearn.metrics import accuracy_score \n",
    "\n",
    "svm_model = SVC(kernel='linear')\n",
    "\n",
    "# Define a range of C values to test\n",
    "C_values = [0.1, 1, 10, 100]  # You can adjust this list\n",
    "\n",
    "accuracies = []\n",
    "losses = []\n",
    "\n",
    "for C in C_values:\n",
    "    # Create and train the SVM model with the current C value\n",
    "    # , gamma=1.5, degree=1, random_state=1\n",
    "    svm_model = SVC(kernel='linear', C=C)\n",
    "    svm_model.fit(X_train_2D, Y_train_norm)\n",
    "    \n",
    "    # Make predictions on the test data\n",
    "    y_pred = svm_model.predict(X_test_2D)\n",
    "    \n",
    "    # Calculate accuracy\n",
    "    accuracy = accuracy_score(Y_test_norm, y_pred)\n",
    "    accuracies.append(accuracy)"
   ]
  },
  {
   "cell_type": "code",
   "execution_count": 19,
   "metadata": {},
   "outputs": [
    {
     "data": {
      "image/png": "[encoded data removed]",
      "text/plain": [
       "<Figure size 500x300 with 1 Axes>"
      ]
     },
     "metadata": {},
     "output_type": "display_data"
    }
   ],
   "source": [
    "# Plot the accuracy graph\n",
    "plt.figure(figsize=(5, 3))\n",
    "plt.plot(C_values, accuracies, marker='o')\n",
    "plt.xscale('log')  # Logarithmic scale for C values, as C typically spans a wide range\n",
    "plt.xlabel('C Values')\n",
    "plt.ylabel('Accuracy')\n",
    "plt.title('SVM Accuracy vs. C Values')\n",
    "plt.grid(True)\n",
    "plt.show()"
   ]
  },
  {
   "cell_type": "code",
   "execution_count": 20,
   "metadata": {},
   "outputs": [
    {
     "data": {
      "text/plain": [
       "63.918252290345315"
      ]
     },
     "execution_count": 20,
     "metadata": {},
     "output_type": "execute_result"
    }
   ],
   "source": [
    "max_accuracy = max(accuracies)*100\n",
    "max_accuracy"
   ]
  },
  {
   "cell_type": "code",
   "execution_count": 21,
   "metadata": {},
   "outputs": [
    {
     "name": "stdout",
     "output_type": "stream",
     "text": [
      "F1 Score_svm: 0.67\n",
      "Precision_svm: 0.67\n",
      "Recall_svm: 0.67\n"
     ]
    }
   ],
   "source": [
    "from sklearn.metrics import f1_score, precision_score, recall_score\n",
    "# Calculate F1 score, precision and recall scores\n",
    "f1_svm = f1_score(Y_test_norm, y_pred)\n",
    "precision_svm = precision_score(Y_test_norm, y_pred)\n",
    "recall_svm = recall_score(Y_test_norm, y_pred)\n",
    "\n",
    "print(\"F1 Score_svm: {:.2f}\".format(f1_svm))\n",
    "print(\"Precision_svm: {:.2f}\".format(precision_svm))\n",
    "print(\"Recall_svm: {:.2f}\".format(recall_svm))"
   ]
  },
  {
   "cell_type": "code",
   "execution_count": 23,
   "metadata": {},
   "outputs": [
    {
     "data": {
      "image/png": "[encoded data removed]",
      "text/plain": [
       "<Figure size 640x480 with 2 Axes>"
      ]
     },
     "metadata": {},
     "output_type": "display_data"
    }
   ],
   "source": [
    "from sklearn import metrics\n",
    "confusion_matr_svm = metrics.confusion_matrix(Y_test_norm, np.round(y_pred))\n",
    "cm_display = metrics.ConfusionMatrixDisplay(confusion_matrix = confusion_matr_svm, display_labels = ('positive', 'negative'))\n",
    "cm_display.plot()\n",
    "plt.show()"
   ]
  },
  {
   "cell_type": "code",
   "execution_count": 24,
   "metadata": {},
   "outputs": [
    {
     "name": "stdout",
     "output_type": "stream",
     "text": [
      "True Positive for schizophrenia  305 \n",
      " False Negative for schizophrenia  273 \n",
      " False Positive For Healthy  281 \n",
      " True Neagtive For Healthy  560 \n",
      "\n"
     ]
    }
   ],
   "source": [
    "print(\n",
    "    \"True Positive for schizophrenia \", confusion_matr_svm[0, 0], \"\\n\",\n",
    "    \"False Negative for schizophrenia \", confusion_matr_svm[0, 1], \"\\n\",\n",
    "    \"False Positive For Healthy \", confusion_matr_svm[1, 0], \"\\n\",\n",
    "    \"True Neagtive For Healthy \", confusion_matr_svm[1, 1], \"\\n\")"
   ]
  },
  {
   "cell_type": "code",
   "execution_count": 25,
   "metadata": {},
   "outputs": [
    {
     "data": {
      "text/plain": [
       "(305, 281, 273, 560)"
      ]
     },
     "execution_count": 25,
     "metadata": {},
     "output_type": "execute_result"
    }
   ],
   "source": [
    "TP_svm = confusion_matr_svm[0, 0]\n",
    "FN_svm = confusion_matr_svm[0, 1]\n",
    "FP_svm = confusion_matr_svm[1, 0]\n",
    "TN_svm = confusion_matr_svm[1, 1]\n",
    "TP_svm, FP_svm, FN_svm, TN_svm"
   ]
  },
  {
   "cell_type": "code",
   "execution_count": 26,
   "metadata": {},
   "outputs": [
    {
     "data": {
      "text/plain": [
       "0.527681660899654"
      ]
     },
     "execution_count": 26,
     "metadata": {},
     "output_type": "execute_result"
    }
   ],
   "source": [
    "sensitivity_svm = TP_svm / (TP_svm + FN_svm)\n",
    "sensitivity_svm"
   ]
  },
  {
   "cell_type": "code",
   "execution_count": 27,
   "metadata": {},
   "outputs": [
    {
     "data": {
      "text/plain": [
       "0.6658739595719382"
      ]
     },
     "execution_count": 27,
     "metadata": {},
     "output_type": "execute_result"
    }
   ],
   "source": [
    "specificity_svm = TN_svm / (TN_svm + FP_svm)\n",
    "specificity_svm"
   ]
  },
  {
   "cell_type": "markdown",
   "metadata": {},
   "source": [
    "                                          ML MODEL 2 : RANDOM FOREST"
   ]
  },
  {
   "cell_type": "code",
   "execution_count": 20,
   "metadata": {},
   "outputs": [],
   "source": [
    "import matplotlib.pyplot as plt\n",
    "from sklearn.metrics import accuracy_score \n",
    "from sklearn.ensemble import RandomForestClassifier\n",
    "\n",
    "# Create arrays to store the accuracy values for test data\n",
    "accuracy_values_RF = []\n",
    "\n",
    "# Define a range of values for the number of trees (e.g., from 1 to 100)\n",
    "num_trees_range = range(1, 101)\n",
    "\n",
    "for num_trees in num_trees_range:\n",
    "    # Create and train the Random Forest model with 'num_trees' trees\n",
    "    random_forest_model = RandomForestClassifier(n_estimators=num_trees, random_state=42)\n",
    "    random_forest_model.fit(X_train_2D, Y_train_norm)\n",
    "    \n",
    "    # Make predictions on the test data\n",
    "    y_pred_RF = random_forest_model.predict(X_test_2D)\n",
    "    # Calculate test accuracy and store it in the test_accuracy_values array\n",
    "    accuracy_RF = accuracy_score(Y_test_norm, y_pred_RF)\n",
    "    accuracy_values_RF.append(accuracy_RF)"
   ]
  },
  {
   "cell_type": "code",
   "execution_count": null,
   "metadata": {},
   "outputs": [
    {
     "data": {
      "image/png": "[encoded data removed]",
      "text/plain": [
       "<Figure size 700x300 with 1 Axes>"
      ]
     },
     "metadata": {},
     "output_type": "display_data"
    }
   ],
   "source": [
    "# Plot the training and test accuracy values\n",
    "plt.figure(figsize=(7, 3))\n",
    "plt.plot(num_trees_range, accuracy_values_RF, label='Test Accuracy', marker='o', linestyle='-')\n",
    "plt.title('Test Accuracy vs. Number of Trees in Random Forest')\n",
    "plt.xlabel('Number of Trees')\n",
    "plt.ylabel('Accuracy')\n",
    "plt.legend()\n",
    "plt.grid(True)\n",
    "plt.show()"
   ]
  },
  {
   "cell_type": "code",
   "execution_count": null,
   "metadata": {},
   "outputs": [
    {
     "data": {
      "text/plain": [
       "65.82100070472163"
      ]
     },
     "execution_count": 63,
     "metadata": {},
     "output_type": "execute_result"
    }
   ],
   "source": [
    "max(accuracy_values_RF)*100"
   ]
  },
  {
   "cell_type": "code",
   "execution_count": null,
   "metadata": {},
   "outputs": [
    {
     "name": "stdout",
     "output_type": "stream",
     "text": [
      "F1 Score: 0.74\n",
      "Precision: 0.67\n",
      "Recall: 0.84\n"
     ]
    }
   ],
   "source": [
    "from sklearn.metrics import f1_score, precision_score, recall_score\n",
    "# Calculate F1 score, precision and recall scores\n",
    "f1_RF = f1_score(Y_test_norm, y_pred_RF)\n",
    "precision_RF = precision_score(Y_test_norm, y_pred_RF)\n",
    "recall_RF = recall_score(Y_test_norm, y_pred_RF)\n",
    "\n",
    "print(\"F1 Score: {:.2f}\".format(f1_RF))\n",
    "print(\"Precision: {:.2f}\".format(precision_RF))\n",
    "print(\"Recall: {:.2f}\".format(recall_RF))"
   ]
  },
  {
   "cell_type": "code",
   "execution_count": 33,
   "metadata": {},
   "outputs": [
    {
     "data": {
      "image/png": "[encoded data removed]",
      "text/plain": [
       "<Figure size 640x480 with 2 Axes>"
      ]
     },
     "metadata": {},
     "output_type": "display_data"
    }
   ],
   "source": [
    "from sklearn import metrics\n",
    "confusion_matr_RF = metrics.confusion_matrix(Y_test_norm, np.round(y_pred_RF))\n",
    "cm_display = metrics.ConfusionMatrixDisplay(confusion_matrix = confusion_matr_RF, display_labels=('positive','negative'))\n",
    "cm_display.plot()\n",
    "plt.show()"
   ]
  },
  {
   "cell_type": "code",
   "execution_count": 34,
   "metadata": {},
   "outputs": [
    {
     "name": "stdout",
     "output_type": "stream",
     "text": [
      "True Positive for schizophrenia  224 \n",
      " False Negative for schizophrenia  354 \n",
      " False Positive For Healthy  133 \n",
      " True Negative For Healthy  708 \n",
      "\n"
     ]
    }
   ],
   "source": [
    "print(\n",
    "    \"True Positive for schizophrenia \", confusion_matr_RF[0, 0], \"\\n\",\n",
    "    \"False Negative for schizophrenia \", confusion_matr_RF[0, 1], \"\\n\",\n",
    "    \"False Positive For Healthy \", confusion_matr_RF[1, 0], \"\\n\",\n",
    "    \"True Negative For Healthy \", confusion_matr_RF[1, 1], \"\\n\")"
   ]
  },
  {
   "cell_type": "code",
   "execution_count": 35,
   "metadata": {},
   "outputs": [
    {
     "data": {
      "text/plain": [
       "(224, 133, 354, 708)"
      ]
     },
     "execution_count": 35,
     "metadata": {},
     "output_type": "execute_result"
    }
   ],
   "source": [
    "TP_RF = confusion_matr_RF[0, 0]\n",
    "FN_RF = confusion_matr_RF[0, 1]\n",
    "FP_RF = confusion_matr_RF[1, 0]\n",
    "TN_RF = confusion_matr_RF[1, 1]\n",
    "TP_RF, FP_RF, FN_RF, TN_RF"
   ]
  },
  {
   "cell_type": "code",
   "execution_count": 36,
   "metadata": {},
   "outputs": [
    {
     "data": {
      "text/plain": [
       "0.3875432525951557"
      ]
     },
     "execution_count": 36,
     "metadata": {},
     "output_type": "execute_result"
    }
   ],
   "source": [
    "sensitivity_RF = TP_RF / (TP_RF + FN_RF)\n",
    "sensitivity_RF"
   ]
  },
  {
   "cell_type": "code",
   "execution_count": 37,
   "metadata": {},
   "outputs": [
    {
     "data": {
      "text/plain": [
       "0.8418549346016647"
      ]
     },
     "execution_count": 37,
     "metadata": {},
     "output_type": "execute_result"
    }
   ],
   "source": [
    "specificity_RF = TN_RF / (TN_RF + FP_RF)\n",
    "specificity_RF"
   ]
  },
  {
   "cell_type": "markdown",
   "metadata": {},
   "source": [
    "                                                 ML MODEL 4 : KNN"
   ]
  },
  {
   "cell_type": "code",
   "execution_count": 21,
   "metadata": {},
   "outputs": [],
   "source": [
    "import matplotlib.pyplot as plt\n",
    "from sklearn.metrics import accuracy_score \n",
    "from sklearn.neighbors import KNeighborsClassifier\n",
    "\n",
    "# Initialize arrays to store accuracy values for different 'k' values\n",
    "accuracies_knn = []\n",
    "k_values = range(1, 21)  # A range of 'k' values to explore\n",
    "\n",
    "# Loop through different 'k' values\n",
    "for k in k_values:\n",
    "    # Initialize the KNN model with the current 'k'\n",
    "    model_knn = KNeighborsClassifier(n_neighbors=k, weights='distance')\n",
    "    \n",
    "    # Train the model on the training data\n",
    "    model_knn.fit(X_train_2D, Y_train_norm)\n",
    "    \n",
    "    # Make predictions on the test data\n",
    "    y_pred_knn = model_knn.predict(X_test_2D)\n",
    "    \n",
    "    # Calculate accuracy and store it in the accuracies array\n",
    "    accuracy_knn = accuracy_score(Y_test_norm, y_pred_knn)\n",
    "    accuracies_knn.append(accuracy_knn)"
   ]
  },
  {
   "cell_type": "code",
   "execution_count": null,
   "metadata": {},
   "outputs": [
    {
     "data": {
      "image/png": "[encoded data removed]",
      "text/plain": [
       "<Figure size 500x300 with 1 Axes>"
      ]
     },
     "metadata": {},
     "output_type": "display_data"
    }
   ],
   "source": [
    "# Plot the accuracy graph\n",
    "plt.figure(figsize=(5, 3))\n",
    "plt.plot(k_values, accuracies_knn, marker='o')\n",
    "plt.title(\"Accuracy vs. Number of Neighbors (k)\")\n",
    "plt.xlabel(\"Number of Neighbors (k)\")\n",
    "plt.ylabel(\"Accuracy\")\n",
    "plt.grid(True)\n",
    "plt.show()"
   ]
  },
  {
   "cell_type": "code",
   "execution_count": null,
   "metadata": {},
   "outputs": [
    {
     "data": {
      "text/plain": [
       "58.56236786469344"
      ]
     },
     "execution_count": 27,
     "metadata": {},
     "output_type": "execute_result"
    }
   ],
   "source": [
    "max(accuracies_knn)*100"
   ]
  },
  {
   "cell_type": "code",
   "execution_count": 38,
   "metadata": {},
   "outputs": [
    {
     "name": "stdout",
     "output_type": "stream",
     "text": [
      "F1 Score: 0.71\n",
      "Precision: 0.60\n",
      "Recall: 0.88\n"
     ]
    }
   ],
   "source": [
    "from sklearn.metrics import f1_score, precision_score, recall_score\n",
    "# Calculate F1 score, precision and recall scores\n",
    "f1_knn = f1_score(Y_test_norm, y_pred_knn)\n",
    "precision_knn = precision_score(Y_test_norm, y_pred_knn)\n",
    "recall_knn = recall_score(Y_test_norm, y_pred_knn)\n",
    "\n",
    "print(\"F1 Score: {:.2f}\".format(f1_knn))\n",
    "print(\"Precision: {:.2f}\".format(precision_knn))\n",
    "print(\"Recall: {:.2f}\".format(recall_knn))"
   ]
  },
  {
   "cell_type": "code",
   "execution_count": 41,
   "metadata": {},
   "outputs": [
    {
     "data": {
      "image/png": "[encoded data removed]",
      "text/plain": [
       "<Figure size 640x480 with 2 Axes>"
      ]
     },
     "metadata": {},
     "output_type": "display_data"
    }
   ],
   "source": [
    "from sklearn import metrics\n",
    "confusion_matr_knn = confusion_matrix(Y_test_norm, np.round(y_pred_knn))\n",
    "cm_display = metrics.ConfusionMatrixDisplay(confusion_matrix = confusion_matr_knn, display_labels = ('Positive','Negative'))\n",
    "cm_display.plot()\n",
    "plt.show()"
   ]
  },
  {
   "cell_type": "code",
   "execution_count": 42,
   "metadata": {},
   "outputs": [
    {
     "name": "stdout",
     "output_type": "stream",
     "text": [
      "True Positive for schizophrenia  77 \n",
      " False Negative for schizophrenia  501 \n",
      " False Positive For Healthy  99 \n",
      " True Neagtive For Healthy  742 \n",
      "\n"
     ]
    }
   ],
   "source": [
    "print(\n",
    "    \"True Positive for schizophrenia \", confusion_matr_knn[0, 0], \"\\n\",\n",
    "    \"False Negative for schizophrenia \", confusion_matr_knn[0, 1], \"\\n\",\n",
    "    \"False Positive For Healthy \", confusion_matr_knn[1, 0], \"\\n\",\n",
    "    \"True Neagtive For Healthy \", confusion_matr_knn[1, 1], \"\\n\")"
   ]
  },
  {
   "cell_type": "code",
   "execution_count": 43,
   "metadata": {},
   "outputs": [
    {
     "data": {
      "text/plain": [
       "(77, 99, 501, 742)"
      ]
     },
     "execution_count": 43,
     "metadata": {},
     "output_type": "execute_result"
    }
   ],
   "source": [
    "TP_knn = confusion_matr_knn[0, 0]\n",
    "FN_knn = confusion_matr_knn[0, 1]\n",
    "FP_knn = confusion_matr_knn[1, 0]\n",
    "TN_knn= confusion_matr_knn[1, 1]\n",
    "TP_knn, FP_knn, FN_knn, TN_knn"
   ]
  },
  {
   "cell_type": "code",
   "execution_count": 44,
   "metadata": {},
   "outputs": [
    {
     "data": {
      "text/plain": [
       "0.13321799307958476"
      ]
     },
     "execution_count": 44,
     "metadata": {},
     "output_type": "execute_result"
    }
   ],
   "source": [
    "sensitivity_knn = TP_knn / (TP_knn + FN_knn)\n",
    "sensitivity_knn"
   ]
  },
  {
   "cell_type": "code",
   "execution_count": 45,
   "metadata": {},
   "outputs": [
    {
     "data": {
      "text/plain": [
       "0.882282996432818"
      ]
     },
     "execution_count": 45,
     "metadata": {},
     "output_type": "execute_result"
    }
   ],
   "source": [
    "specificity_knn = TN_knn / (TN_knn + FP_knn)\n",
    "specificity_knn"
   ]
  },
  {
   "cell_type": "code",
   "execution_count": null,
   "metadata": {},
   "outputs": [],
   "source": []
  }
 ],
 "metadata": {
  "kernelspec": {
   "display_name": "Python 3",
   "language": "python",
   "name": "python3"
  },
  "language_info": {
   "codemirror_mode": {
    "name": "ipython",
    "version": 3
   },
   "file_extension": ".py",
   "mimetype": "text/x-python",
   "name": "python",
   "nbconvert_exporter": "python",
   "pygments_lexer": "ipython3",
   "version": "3.11.1"
  }
 },
 "nbformat": 4,
 "nbformat_minor": 2
}
