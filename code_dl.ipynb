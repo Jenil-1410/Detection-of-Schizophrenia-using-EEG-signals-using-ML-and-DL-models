{
 "cells": [
  {
   "cell_type": "code",
   "execution_count": 2,
   "metadata": {},
   "outputs": [
    {
     "name": "stderr",
     "output_type": "stream",
     "text": [
      "a was unexpected at this time.\n"
     ]
    }
   ],
   "source": [
    "import os\n",
    "import time\n",
    "import numpy as np\n",
    "import pandas as pd\n",
    "\n",
    "import numpy as np\n",
    "from tqdm.notebook import tqdm\n",
    "\n",
    "import matplotlib.pyplot as plt\n",
    "\n",
    "from sklearn.model_selection import train_test_split\n",
    "from sklearn.preprocessing import normalize\n",
    "from sklearn.metrics import confusion_matrix\n",
    "\n",
    "import keras\n",
    "import tensorflow as tf \n",
    "from keras.models import Sequential\n",
    "from keras.layers import Dense\n",
    "     \n",
    "from keras import backend as K\n",
    "from keras.layers import Conv2D, MaxPooling2D, Dropout, Flatten, BatchNormalization,Bidirectional,LSTM\n",
    "\n",
    "from keras.callbacks import ModelCheckpoint\n",
    "import warnings\n",
    "warnings.filterwarnings('ignore')\n",
    "\n",
    "gpu_devices = tf.config.experimental.list_physical_devices('GPU')\n",
    "for device in gpu_devices:\n",
    "    tf.config.experimental.set_memory_growth(device, True)\n",
    "    \n",
    "! for a in /sys/bus/pci/devices/*; do echo 0 | sudo tee -a $a/numa_node; done"
   ]
  },
  {
   "cell_type": "code",
   "execution_count": 3,
   "metadata": {},
   "outputs": [
    {
     "name": "stdout",
     "output_type": "stream",
     "text": [
      "D:\\schizophrenia_code\\data\\data_part1\\columnLabels.csv\n",
      "D:\\schizophrenia_code\\data\\data_part1\\demographic.csv\n",
      "D:\\schizophrenia_code\\data\\data_part1\\ERPdata.csv\n",
      "D:\\schizophrenia_code\\data\\data_part1\\mergedTrialData.csv\n",
      "D:\\schizophrenia_code\\data\\data_part1\\time.csv\n",
      "D:\\schizophrenia_code\\data\\data_part1\\1.csv\\1.csv\n",
      "D:\\schizophrenia_code\\data\\data_part1\\10.csv\\10.csv\n",
      "D:\\schizophrenia_code\\data\\data_part1\\11.csv\\11.csv\n",
      "D:\\schizophrenia_code\\data\\data_part1\\12.csv\\12.csv\n",
      "D:\\schizophrenia_code\\data\\data_part1\\13.csv\\13.csv\n",
      "D:\\schizophrenia_code\\data\\data_part1\\14.csv\\14.csv\n",
      "D:\\schizophrenia_code\\data\\data_part1\\15.csv\\15.csv\n",
      "D:\\schizophrenia_code\\data\\data_part1\\16.csv\\16.csv\n",
      "D:\\schizophrenia_code\\data\\data_part1\\17.csv\\17.csv\n",
      "D:\\schizophrenia_code\\data\\data_part1\\18.csv\\18.csv\n",
      "D:\\schizophrenia_code\\data\\data_part1\\19.csv\\19.csv\n",
      "D:\\schizophrenia_code\\data\\data_part1\\2.csv\\2.csv\n",
      "D:\\schizophrenia_code\\data\\data_part1\\20.csv\\20.csv\n",
      "D:\\schizophrenia_code\\data\\data_part1\\21.csv\\21.csv\n",
      "D:\\schizophrenia_code\\data\\data_part1\\22.csv\\22.csv\n",
      "D:\\schizophrenia_code\\data\\data_part1\\23.csv\\23.csv\n",
      "D:\\schizophrenia_code\\data\\data_part1\\24.csv\\24.csv\n",
      "D:\\schizophrenia_code\\data\\data_part1\\3.csv\\3.csv\n",
      "D:\\schizophrenia_code\\data\\data_part1\\4.csv\\4.csv\n",
      "D:\\schizophrenia_code\\data\\data_part1\\5.csv\\5.csv\n",
      "D:\\schizophrenia_code\\data\\data_part1\\6.csv\\6.csv\n",
      "D:\\schizophrenia_code\\data\\data_part1\\66.csv\\66.csv\n",
      "D:\\schizophrenia_code\\data\\data_part1\\67.csv\\67.csv\n",
      "D:\\schizophrenia_code\\data\\data_part1\\68.csv\\68.csv\n",
      "D:\\schizophrenia_code\\data\\data_part1\\69.csv\\69.csv\n",
      "D:\\schizophrenia_code\\data\\data_part1\\7.csv\\7.csv\n",
      "D:\\schizophrenia_code\\data\\data_part1\\70.csv\\70.csv\n",
      "D:\\schizophrenia_code\\data\\data_part1\\71.csv\\71.csv\n",
      "D:\\schizophrenia_code\\data\\data_part1\\72.csv\\72.csv\n",
      "D:\\schizophrenia_code\\data\\data_part1\\73.csv\\73.csv\n",
      "D:\\schizophrenia_code\\data\\data_part1\\74.csv\\74.csv\n",
      "D:\\schizophrenia_code\\data\\data_part1\\75.csv\\75.csv\n",
      "D:\\schizophrenia_code\\data\\data_part1\\76.csv\\76.csv\n",
      "D:\\schizophrenia_code\\data\\data_part1\\77.csv\\77.csv\n",
      "D:\\schizophrenia_code\\data\\data_part1\\78.csv\\78.csv\n",
      "D:\\schizophrenia_code\\data\\data_part1\\79.csv\\79.csv\n",
      "D:\\schizophrenia_code\\data\\data_part1\\8.csv\\8.csv\n",
      "D:\\schizophrenia_code\\data\\data_part1\\80.csv\\80.csv\n",
      "D:\\schizophrenia_code\\data\\data_part1\\81.csv\\81.csv\n",
      "D:\\schizophrenia_code\\data\\data_part1\\9.csv\\9.csv\n",
      "D:\\schizophrenia_code\\data\\data_part2\\25.csv\\25.csv\n",
      "D:\\schizophrenia_code\\data\\data_part2\\26.csv\\26.csv\n",
      "D:\\schizophrenia_code\\data\\data_part2\\27.csv\\27.csv\n",
      "D:\\schizophrenia_code\\data\\data_part2\\28.csv\\28.csv\n",
      "D:\\schizophrenia_code\\data\\data_part2\\29.csv\\29.csv\n",
      "D:\\schizophrenia_code\\data\\data_part2\\30.csv\\30.csv\n",
      "D:\\schizophrenia_code\\data\\data_part2\\31.csv\\31.csv\n",
      "D:\\schizophrenia_code\\data\\data_part2\\32.csv\\32.csv\n",
      "D:\\schizophrenia_code\\data\\data_part2\\33.csv\\33.csv\n",
      "D:\\schizophrenia_code\\data\\data_part2\\34.csv\\34.csv\n",
      "D:\\schizophrenia_code\\data\\data_part2\\35.csv\\35.csv\n",
      "D:\\schizophrenia_code\\data\\data_part2\\36.csv\\36.csv\n",
      "D:\\schizophrenia_code\\data\\data_part2\\37.csv\\37.csv\n",
      "D:\\schizophrenia_code\\data\\data_part2\\38.csv\\38.csv\n",
      "D:\\schizophrenia_code\\data\\data_part2\\39.csv\\39.csv\n",
      "D:\\schizophrenia_code\\data\\data_part2\\40.csv\\40.csv\n",
      "D:\\schizophrenia_code\\data\\data_part2\\41.csv\\41.csv\n",
      "D:\\schizophrenia_code\\data\\data_part2\\42.csv\\42.csv\n",
      "D:\\schizophrenia_code\\data\\data_part2\\43.csv\\43.csv\n",
      "D:\\schizophrenia_code\\data\\data_part2\\44.csv\\44.csv\n",
      "D:\\schizophrenia_code\\data\\data_part2\\45.csv\\45.csv\n",
      "D:\\schizophrenia_code\\data\\data_part2\\46.csv\\46.csv\n",
      "D:\\schizophrenia_code\\data\\data_part2\\47.csv\\47.csv\n",
      "D:\\schizophrenia_code\\data\\data_part2\\48.csv\\48.csv\n",
      "D:\\schizophrenia_code\\data\\data_part2\\49.csv\\49.csv\n",
      "D:\\schizophrenia_code\\data\\data_part2\\50.csv\\50.csv\n",
      "D:\\schizophrenia_code\\data\\data_part2\\51.csv\\51.csv\n",
      "D:\\schizophrenia_code\\data\\data_part2\\52.csv\\52.csv\n",
      "D:\\schizophrenia_code\\data\\data_part2\\53.csv\\53.csv\n",
      "D:\\schizophrenia_code\\data\\data_part2\\54.csv\\54.csv\n",
      "D:\\schizophrenia_code\\data\\data_part2\\55.csv\\55.csv\n",
      "D:\\schizophrenia_code\\data\\data_part2\\56.csv\\56.csv\n",
      "D:\\schizophrenia_code\\data\\data_part2\\57.csv\\57.csv\n",
      "D:\\schizophrenia_code\\data\\data_part2\\58.csv\\58.csv\n",
      "D:\\schizophrenia_code\\data\\data_part2\\59.csv\\59.csv\n",
      "D:\\schizophrenia_code\\data\\data_part2\\60.csv\\60.csv\n",
      "D:\\schizophrenia_code\\data\\data_part2\\61.csv\\61.csv\n",
      "D:\\schizophrenia_code\\data\\data_part2\\62.csv\\62.csv\n",
      "D:\\schizophrenia_code\\data\\data_part2\\63.csv\\63.csv\n",
      "D:\\schizophrenia_code\\data\\data_part2\\64.csv\\64.csv\n",
      "D:\\schizophrenia_code\\data\\data_part2\\65.csv\\65.csv\n"
     ]
    }
   ],
   "source": [
    "for dirname, _, filenames in os.walk(\"D:\\schizophrenia_code\\data\"):\n",
    "    for filename in filenames:\n",
    "        print(os.path.join(dirname, filename))"
   ]
  },
  {
   "cell_type": "code",
   "execution_count": 4,
   "metadata": {},
   "outputs": [
    {
     "data": {
      "text/html": [
       "<div>\n",
       "<style scoped>\n",
       "    .dataframe tbody tr th:only-of-type {\n",
       "        vertical-align: middle;\n",
       "    }\n",
       "\n",
       "    .dataframe tbody tr th {\n",
       "        vertical-align: top;\n",
       "    }\n",
       "\n",
       "    .dataframe thead th {\n",
       "        text-align: right;\n",
       "    }\n",
       "</style>\n",
       "<table border=\"1\" class=\"dataframe\">\n",
       "  <thead>\n",
       "    <tr style=\"text-align: right;\">\n",
       "      <th></th>\n",
       "      <th>subject</th>\n",
       "      <th>group</th>\n",
       "      <th>gender</th>\n",
       "      <th>age</th>\n",
       "      <th>education</th>\n",
       "    </tr>\n",
       "  </thead>\n",
       "  <tbody>\n",
       "    <tr>\n",
       "      <th>0</th>\n",
       "      <td>1</td>\n",
       "      <td>0</td>\n",
       "      <td>M</td>\n",
       "      <td>44</td>\n",
       "      <td>16.0</td>\n",
       "    </tr>\n",
       "    <tr>\n",
       "      <th>1</th>\n",
       "      <td>2</td>\n",
       "      <td>0</td>\n",
       "      <td>M</td>\n",
       "      <td>39</td>\n",
       "      <td>17.0</td>\n",
       "    </tr>\n",
       "    <tr>\n",
       "      <th>2</th>\n",
       "      <td>3</td>\n",
       "      <td>0</td>\n",
       "      <td>M</td>\n",
       "      <td>53</td>\n",
       "      <td>18.0</td>\n",
       "    </tr>\n",
       "    <tr>\n",
       "      <th>3</th>\n",
       "      <td>4</td>\n",
       "      <td>0</td>\n",
       "      <td>M</td>\n",
       "      <td>52</td>\n",
       "      <td>15.0</td>\n",
       "    </tr>\n",
       "    <tr>\n",
       "      <th>4</th>\n",
       "      <td>5</td>\n",
       "      <td>0</td>\n",
       "      <td>M</td>\n",
       "      <td>41</td>\n",
       "      <td>16.0</td>\n",
       "    </tr>\n",
       "    <tr>\n",
       "      <th>...</th>\n",
       "      <td>...</td>\n",
       "      <td>...</td>\n",
       "      <td>...</td>\n",
       "      <td>...</td>\n",
       "      <td>...</td>\n",
       "    </tr>\n",
       "    <tr>\n",
       "      <th>76</th>\n",
       "      <td>77</td>\n",
       "      <td>1</td>\n",
       "      <td>M</td>\n",
       "      <td>28</td>\n",
       "      <td>13.0</td>\n",
       "    </tr>\n",
       "    <tr>\n",
       "      <th>77</th>\n",
       "      <td>78</td>\n",
       "      <td>1</td>\n",
       "      <td>F</td>\n",
       "      <td>32</td>\n",
       "      <td>16.0</td>\n",
       "    </tr>\n",
       "    <tr>\n",
       "      <th>78</th>\n",
       "      <td>79</td>\n",
       "      <td>1</td>\n",
       "      <td>M</td>\n",
       "      <td>37</td>\n",
       "      <td>16.0</td>\n",
       "    </tr>\n",
       "    <tr>\n",
       "      <th>79</th>\n",
       "      <td>80</td>\n",
       "      <td>1</td>\n",
       "      <td>M</td>\n",
       "      <td>33</td>\n",
       "      <td>13.0</td>\n",
       "    </tr>\n",
       "    <tr>\n",
       "      <th>80</th>\n",
       "      <td>81</td>\n",
       "      <td>1</td>\n",
       "      <td>M</td>\n",
       "      <td>56</td>\n",
       "      <td>13.0</td>\n",
       "    </tr>\n",
       "  </tbody>\n",
       "</table>\n",
       "<p>81 rows × 5 columns</p>\n",
       "</div>"
      ],
      "text/plain": [
       "    subject   group  gender   age   education\n",
       "0         1       0       M    44        16.0\n",
       "1         2       0       M    39        17.0\n",
       "2         3       0       M    53        18.0\n",
       "3         4       0       M    52        15.0\n",
       "4         5       0       M    41        16.0\n",
       "..      ...     ...     ...   ...         ...\n",
       "76       77       1       M    28        13.0\n",
       "77       78       1       F    32        16.0\n",
       "78       79       1       M    37        16.0\n",
       "79       80       1       M    33        13.0\n",
       "80       81       1       M    56        13.0\n",
       "\n",
       "[81 rows x 5 columns]"
      ]
     },
     "execution_count": 4,
     "metadata": {},
     "output_type": "execute_result"
    }
   ],
   "source": [
    "demographic = pd.read_csv(\"D:/schizophrenia_code/data/data_part1/demographic.csv\")\n",
    "demographic"
   ]
  },
  {
   "cell_type": "code",
   "execution_count": 5,
   "metadata": {},
   "outputs": [
    {
     "data": {
      "text/plain": [
       "0.6049382716049383"
      ]
     },
     "execution_count": 5,
     "metadata": {},
     "output_type": "execute_result"
    }
   ],
   "source": [
    "demographic[\" group\"].mean()"
   ]
  },
  {
   "cell_type": "code",
   "execution_count": 6,
   "metadata": {},
   "outputs": [
    {
     "data": {
      "text/plain": [
       " group\n",
       "1    49\n",
       "0    32\n",
       "Name: count, dtype: int64"
      ]
     },
     "execution_count": 6,
     "metadata": {},
     "output_type": "execute_result"
    }
   ],
   "source": [
    "demographic[\" group\"].value_counts()"
   ]
  },
  {
   "cell_type": "code",
   "execution_count": 7,
   "metadata": {},
   "outputs": [
    {
     "name": "stdout",
     "output_type": "stream",
     "text": [
      "0 - HEALTHY\n",
      "1 - HEALTHY\n",
      "2 - HEALTHY\n",
      "3 - HEALTHY\n",
      "4 - HEALTHY\n",
      "5 - HEALTHY\n",
      "6 - HEALTHY\n",
      "7 - HEALTHY\n",
      "8 - HEALTHY\n",
      "9 - HEALTHY\n",
      "10 - HEALTHY\n",
      "11 - HEALTHY\n",
      "12 - HEALTHY\n",
      "13 - HEALTHY\n",
      "14 - HEALTHY\n",
      "15 - HEALTHY\n",
      "16 - HEALTHY\n",
      "17 - HEALTHY\n",
      "18 - HEALTHY\n",
      "19 - HEALTHY\n",
      "20 - HEALTHY\n",
      "21 - HEALTHY\n",
      "22 - HEALTHY\n",
      "23 - HEALTHY\n",
      "24 - Schizophrenia\n",
      "25 - Schizophrenia\n",
      "26 - Schizophrenia\n",
      "27 - Schizophrenia\n",
      "28 - Schizophrenia\n",
      "29 - Schizophrenia\n",
      "30 - Schizophrenia\n",
      "31 - Schizophrenia\n",
      "32 - Schizophrenia\n",
      "33 - Schizophrenia\n",
      "34 - Schizophrenia\n",
      "35 - Schizophrenia\n",
      "36 - Schizophrenia\n",
      "37 - Schizophrenia\n",
      "38 - Schizophrenia\n",
      "39 - Schizophrenia\n",
      "40 - Schizophrenia\n",
      "41 - Schizophrenia\n",
      "42 - Schizophrenia\n",
      "43 - Schizophrenia\n",
      "44 - Schizophrenia\n",
      "45 - Schizophrenia\n",
      "46 - Schizophrenia\n",
      "47 - Schizophrenia\n",
      "48 - Schizophrenia\n",
      "49 - Schizophrenia\n",
      "50 - Schizophrenia\n",
      "51 - Schizophrenia\n",
      "52 - Schizophrenia\n",
      "53 - Schizophrenia\n",
      "54 - Schizophrenia\n",
      "55 - Schizophrenia\n",
      "56 - Schizophrenia\n",
      "57 - Schizophrenia\n",
      "58 - HEALTHY\n",
      "59 - HEALTHY\n",
      "60 - HEALTHY\n",
      "61 - HEALTHY\n",
      "62 - HEALTHY\n",
      "63 - HEALTHY\n",
      "64 - HEALTHY\n",
      "65 - HEALTHY\n",
      "66 - Schizophrenia\n",
      "67 - Schizophrenia\n",
      "68 - Schizophrenia\n",
      "69 - Schizophrenia\n",
      "70 - Schizophrenia\n",
      "71 - Schizophrenia\n",
      "72 - Schizophrenia\n",
      "73 - Schizophrenia\n",
      "74 - Schizophrenia\n",
      "75 - Schizophrenia\n",
      "76 - Schizophrenia\n",
      "77 - Schizophrenia\n",
      "78 - Schizophrenia\n",
      "79 - Schizophrenia\n",
      "80 - Schizophrenia\n"
     ]
    }
   ],
   "source": [
    "for i, t in enumerate(list(demographic[\" group\"])):\n",
    "    if t:\n",
    "        print(f\"{i} - Schizophrenia\")\n",
    "    else:\n",
    "        print(f\"{i} - HEALTHY\")"
   ]
  },
  {
   "cell_type": "code",
   "execution_count": 8,
   "metadata": {},
   "outputs": [],
   "source": [
    "diagnosis_dict = dict(zip(demographic.subject, demographic[\" group\"]))\n",
    "del demographic"
   ]
  },
  {
   "cell_type": "code",
   "execution_count": 9,
   "metadata": {},
   "outputs": [
    {
     "name": "stdout",
     "output_type": "stream",
     "text": [
      "Electrodes List \n",
      " ['Fp1', 'AF7', 'AF3', 'F1', 'F3', 'F5', 'F7', 'FT7', 'FC5', 'FC3', 'FC1', 'C1', 'C3', 'C5', 'T7', 'TP7', 'CP5', 'CP3', 'CP1', 'P1', 'P3', 'P5', 'P7', 'P9', 'PO7', 'PO3', 'O1', 'Iz', 'Oz', 'POz', 'Pz', 'CPz', 'Fpz', 'Fp2', 'AF8', 'AF4', 'AFz', 'Fz', 'F2', 'F4', 'F6', 'F8', 'FT8', 'FC6', 'FC4', 'FC2', 'FCz', 'Cz', 'C2', 'C4', 'C6', 'T8', 'TP8', 'CP6', 'CP4', 'CP2', 'P2', 'P4', 'P6', 'P8', 'P10', 'PO8', 'PO4', 'O2', 'VEOa', 'VEOb', 'HEOL', 'HEOR', 'Nose', 'TP10']\n"
     ]
    }
   ],
   "source": [
    "electrodes_list = list(pd.read_csv(\"D:\\schizophrenia_code\\data\\data_part1\\columnLabels.csv\").columns[4:])\n",
    "print(\"Electrodes List \\n\",electrodes_list)"
   ]
  },
  {
   "cell_type": "code",
   "execution_count": 10,
   "metadata": {},
   "outputs": [],
   "source": [
    "def averaged_by_N_rows(a, n):\n",
    "    \"\"\" \n",
    "    A function that averages n rows in a matrix\n",
    "    \"\"\"\n",
    "    shape = a.shape\n",
    "    assert len(shape) == 2\n",
    "    assert shape[0] % n == 0\n",
    "    b = a.reshape(shape[0] // n, n, \n",
    "                  shape[1])\n",
    "    mean_vec = b.mean(axis=1)\n",
    "    return mean_vec"
   ]
  },
  {
   "cell_type": "code",
   "execution_count": 22,
   "metadata": {},
   "outputs": [
    {
     "data": {
      "application/vnd.jupyter.widget-view+json": {
       "model_id": "a73dd33430a94351b9742f7a7eb37a30",
       "version_major": 2,
       "version_minor": 0
      },
      "text/plain": [
       "  0%|          | 0/81 [00:00<?, ?it/s]"
      ]
     },
     "metadata": {},
     "output_type": "display_data"
    },
    {
     "name": "stdout",
     "output_type": "stream",
     "text": [
      "Total trials with the Appropriate number of measurements -  7092\n",
      "Total trials with the Appropriate number of measurements-  7092\n"
     ]
    }
   ],
   "source": [
    "N_AVERAGED = 16\n",
    "X = np.zeros((81 * 100,  9216 * len(electrodes_list) // N_AVERAGED), dtype=\"float32\")\n",
    "Y = np.zeros(len(X))\n",
    "\n",
    "part1_path = \"D:\\schizophrenia_code\\data\\data_part1\"\n",
    "part2_path = \"D:\\schizophrenia_code\\data\\data_part2\"\n",
    "\n",
    "# We pull out only those experiments where there were 9216 measurements (most often named so many times)\n",
    "x_counter = 0\n",
    "column_list = pd.read_csv(\"D:\\schizophrenia_code\\data\\data_part1\\columnLabels.csv\").columns\n",
    "for person_number in tqdm(range(1, 81 + 1)):\n",
    "\n",
    "\n",
    "    csv_path = f\"{part1_path}/{person_number}.csv/{person_number}.csv\"\n",
    "    if not os.path.exists(csv_path):\n",
    "        csv_path = f\"{part2_path}/{person_number}.csv/{person_number}.csv\"\n",
    "    df = pd.read_csv(csv_path, \n",
    "                header=None,\n",
    "                names=column_list)\n",
    "    trials_list = set(df.trial)\n",
    "\n",
    "\n",
    "    for t1, trial_number in enumerate(trials_list):\n",
    "        number_of_trials = len(df[df.trial == trial_number])\n",
    "        if number_of_trials == 9216.0:\n",
    "            current_sample_matrix = df[df.trial == trial_number][electrodes_list].values\n",
    "            averaged_by_N = averaged_by_N_rows(current_sample_matrix, n=N_AVERAGED)\n",
    "            averaged_by_N_big_vec = averaged_by_N.reshape(-1)\n",
    "            X[x_counter] = averaged_by_N_big_vec.astype(np.float32)\n",
    "            Y[x_counter] = diagnosis_dict[person_number]\n",
    "            x_counter += 1\n",
    "print(\"Total trials with the Appropriate number of measurements - \", x_counter)\n",
    "X = X[: x_counter]\n",
    "Y = Y[: x_counter]\n",
    "        \n",
    "print(\"Total trials with the Appropriate number of measurements- \", x_counter)"
   ]
  },
  {
   "cell_type": "code",
   "execution_count": 23,
   "metadata": {},
   "outputs": [
    {
     "data": {
      "text/plain": [
       "(7092, 40320)"
      ]
     },
     "execution_count": 23,
     "metadata": {},
     "output_type": "execute_result"
    }
   ],
   "source": [
    "X.shape"
   ]
  },
  {
   "cell_type": "code",
   "execution_count": 24,
   "metadata": {},
   "outputs": [
    {
     "data": {
      "text/plain": [
       "(7092,)"
      ]
     },
     "execution_count": 24,
     "metadata": {},
     "output_type": "execute_result"
    }
   ],
   "source": [
    "Y.shape"
   ]
  },
  {
   "cell_type": "code",
   "execution_count": 25,
   "metadata": {},
   "outputs": [],
   "source": [
    "X_train, X_test, Y_train, Y_test = train_test_split(X, Y, test_size=0.2, shuffle=True, random_state=42)"
   ]
  },
  {
   "cell_type": "code",
   "execution_count": 26,
   "metadata": {},
   "outputs": [],
   "source": [
    "X_norm = (normalize(X.reshape(-1, 70), axis=0, norm='max')).reshape(X.shape)"
   ]
  },
  {
   "cell_type": "code",
   "execution_count": 27,
   "metadata": {},
   "outputs": [],
   "source": [
    "X_train_norm, X_test_norm, Y_train_norm, Y_test_norm = train_test_split(X_norm, Y, test_size=0.2, shuffle=True, random_state=42)"
   ]
  },
  {
   "cell_type": "code",
   "execution_count": 28,
   "metadata": {},
   "outputs": [],
   "source": [
    "X_norm = X"
   ]
  },
  {
   "cell_type": "code",
   "execution_count": 29,
   "metadata": {},
   "outputs": [],
   "source": [
    "X_train_2d = X_train_norm.reshape(X_train_norm.shape[0], len(electrodes_list), X_train_norm.shape[1] // len(electrodes_list), 1)\n",
    "# X_train_2D = X_train_2d.reshape(X_train_2d.shape[0], -1)\n",
    "X_test_2d = X_test_norm.reshape(X_test_norm.shape[0], len(electrodes_list), X_test_norm.shape[1] // len(electrodes_list), 1)\n",
    "# X_test_2D = X_test_2d.reshape(X_test_2d.shape[0], -1)"
   ]
  },
  {
   "cell_type": "code",
   "execution_count": null,
   "metadata": {},
   "outputs": [],
   "source": [
    "# from keras.optimizers import SGD\n",
    "# model=tf.keras.models.Sequential([\n",
    "#     tf.keras.layers.Conv2D(32, (3,3), activation='tanh', input_shape=(X_train_2d.shape[1:])),\n",
    "#     tf.keras.layers.MaxPooling2D((2,2)),\n",
    "#     tf.keras.layers.Conv2D(32, (3,3), activation='tanh'),\n",
    "#     tf.keras.layers.MaxPooling2D((2,2)),\n",
    "#     tf.keras.layers.Flatten(),\n",
    "#     tf.keras.layers.Dense(100,activation='relu'),\n",
    "#     tf.keras.layers.Dense(10,activation='softmax')\n",
    "# ])\n",
    "\n",
    "# sgd_opt = SGD(learning_rate=0.01, momentum=0.9)\n",
    "# model.compile(optimizer=sgd_opt,\n",
    "#               loss=tf.keras.losses.SparseCategoricalCrossentropy(from_logits=True),\n",
    "#               metrics=['accuracy']\n",
    "#               )\n",
    "\n",
    "# his=model.fit(X_train_2d,Y_train_norm,batch_size=17,verbose=1,shuffle=True,epochs=100)\n",
    "# acc=his.history['accuracy']"
   ]
  },
  {
   "cell_type": "code",
   "execution_count": null,
   "metadata": {},
   "outputs": [],
   "source": [
    "# accuracy, loss = model.evaluate(X_test_2d, Y_test_norm)\n",
    "# print(f\"Val accuracy={accuracy}  val loss={loss}\")"
   ]
  },
  {
   "cell_type": "code",
   "execution_count": 30,
   "metadata": {},
   "outputs": [
    {
     "name": "stdout",
     "output_type": "stream",
     "text": [
      "Epoch 1/10\n",
      "334/334 [==============================] - 131s 389ms/step - loss: 0.6556 - accuracy: 0.6006 - val_loss: 0.6472 - val_accuracy: 0.5934\n",
      "Epoch 2/10\n",
      "334/334 [==============================] - 118s 354ms/step - loss: 0.6308 - accuracy: 0.6298 - val_loss: 0.6406 - val_accuracy: 0.6195\n",
      "Epoch 3/10\n",
      "334/334 [==============================] - 117s 351ms/step - loss: 0.6056 - accuracy: 0.6478 - val_loss: 0.6342 - val_accuracy: 0.6124\n",
      "Epoch 4/10\n",
      "334/334 [==============================] - 117s 349ms/step - loss: 0.5772 - accuracy: 0.6852 - val_loss: 0.6277 - val_accuracy: 0.6321\n",
      "Epoch 5/10\n",
      "334/334 [==============================] - 115s 344ms/step - loss: 0.5340 - accuracy: 0.7118 - val_loss: 0.6115 - val_accuracy: 0.6631\n",
      "Epoch 6/10\n",
      "334/334 [==============================] - 117s 349ms/step - loss: 0.4736 - accuracy: 0.7604 - val_loss: 0.6864 - val_accuracy: 0.6561\n",
      "Epoch 7/10\n",
      "334/334 [==============================] - 116s 348ms/step - loss: 0.4104 - accuracy: 0.8045 - val_loss: 0.6766 - val_accuracy: 0.6617\n",
      "Epoch 8/10\n",
      "334/334 [==============================] - 117s 352ms/step - loss: 0.3556 - accuracy: 0.8345 - val_loss: 0.6658 - val_accuracy: 0.6702\n",
      "Epoch 9/10\n",
      "334/334 [==============================] - 117s 349ms/step - loss: 0.2922 - accuracy: 0.8690 - val_loss: 0.7986 - val_accuracy: 0.6653\n",
      "Epoch 10/10\n",
      "334/334 [==============================] - 119s 355ms/step - loss: 0.2344 - accuracy: 0.8986 - val_loss: 0.9179 - val_accuracy: 0.6695\n"
     ]
    }
   ],
   "source": [
    "from keras.optimizers import Adam\n",
    "model=tf.keras.models.Sequential([\n",
    "    tf.keras.layers.Conv2D(32, (3,3), activation='relu', input_shape=(X_train_2d.shape[1:])),\n",
    "    tf.keras.layers.MaxPooling2D((2,2)),\n",
    "    tf.keras.layers.Conv2D(13, (3,3), activation='relu'),\n",
    "    tf.keras.layers.MaxPooling2D((3,3)),\n",
    "    tf.keras.layers.Dropout(0.2),\n",
    "    tf.keras.layers.Flatten(),\n",
    "    tf.keras.layers.Dense(317,activation='relu'),\n",
    "    tf.keras.layers.Dense(2,activation='softmax')\n",
    "])\n",
    "\n",
    "opt = Adam(0.001)\n",
    "model.compile(optimizer=opt,\n",
    "              loss=tf.keras.losses.SparseCategoricalCrossentropy(from_logits=True),\n",
    "              metrics=['accuracy']\n",
    "              )\n",
    "\n",
    "his=model.fit(X_train_2d,Y_train_norm,batch_size=17,verbose=1,shuffle=True,epochs=10,validation_data=(X_test_2d, Y_test_norm))\n",
    "acc=his.history['accuracy']"
   ]
  },
  {
   "cell_type": "code",
   "execution_count": 32,
   "metadata": {},
   "outputs": [
    {
     "data": {
      "image/png": "[encoded data removed]",
      "text/plain": [
       "<Figure size 640x480 with 1 Axes>"
      ]
     },
     "metadata": {},
     "output_type": "display_data"
    }
   ],
   "source": [
    "plt.plot(his.history['accuracy'])\n",
    "plt.plot(his.history['val_accuracy'])\n",
    "plt.title('model accuracy')\n",
    "plt.ylabel('acc')\n",
    "plt.xlabel('epoch')\n",
    "plt.legend(['train', 'test'], loc='upper left')\n",
    "plt.show()"
   ]
  },
  {
   "cell_type": "code",
   "execution_count": 33,
   "metadata": {},
   "outputs": [
    {
     "data": {
      "image/png": "[encoded data removed]",
      "text/plain": [
       "<Figure size 640x480 with 1 Axes>"
      ]
     },
     "metadata": {},
     "output_type": "display_data"
    }
   ],
   "source": [
    "plt.plot(his.history['loss'])\n",
    "plt.plot(his.history['val_loss'])\n",
    "plt.title('model loss')\n",
    "plt.ylabel('loss')\n",
    "plt.xlabel('epoch')\n",
    "plt.legend(['train', 'test'], loc='upper left')\n",
    "plt.show()"
   ]
  },
  {
   "cell_type": "code",
   "execution_count": 34,
   "metadata": {},
   "outputs": [
    {
     "name": "stdout",
     "output_type": "stream",
     "text": [
      "45/45 [==============================] - 5s 113ms/step - loss: 0.9179 - accuracy: 0.6695\n",
      "Val accuracy=0.6694855690002441  val loss=0.9178831577301025\n"
     ]
    }
   ],
   "source": [
    "loss, accuracy = model.evaluate(X_test_2d, Y_test_norm)\n",
    "print(f\"Val accuracy={accuracy}  val loss={loss}\")"
   ]
  },
  {
   "cell_type": "code",
   "execution_count": 35,
   "metadata": {},
   "outputs": [
    {
     "name": "stdout",
     "output_type": "stream",
     "text": [
      "45/45 [==============================] - 6s 109ms/step\n",
      "Y_test_norm shape: (1419,)\n",
      "y_pred shape: (1419, 2)\n"
     ]
    },
    {
     "data": {
      "text/plain": [
       "<sklearn.metrics._plot.confusion_matrix.ConfusionMatrixDisplay at 0x2ed434f5c90>"
      ]
     },
     "execution_count": 35,
     "metadata": {},
     "output_type": "execute_result"
    },
    {
     "data": {
      "image/png": "[encoded data removed]",
      "text/plain": [
       "<Figure size 640x480 with 2 Axes>"
      ]
     },
     "metadata": {},
     "output_type": "display_data"
    }
   ],
   "source": [
    "from sklearn.metrics import confusion_matrix, ConfusionMatrixDisplay\n",
    "\n",
    "# Assuming Y_test_norm is not one-hot encoded\n",
    "y_pred_cnn = np.round(model.predict(X_test_2d))\n",
    "\n",
    "# Check the dimensions of Y_test_norm and y_pred\n",
    "print(\"Y_test_norm shape:\", Y_test_norm.shape)\n",
    "print(\"y_pred shape:\", y_pred_cnn.shape)\n",
    "\n",
    "# Use Y_test_norm directly for confusion matrix\n",
    "confusion_matr_cnn = confusion_matrix(Y_test_norm, np.round(y_pred_cnn[:, 1]))\n",
    "cm_display = ConfusionMatrixDisplay(confusion_matrix=confusion_matr_cnn, display_labels=('positive','negative'))\n",
    "cm_display.plot()\n"
   ]
  },
  {
   "cell_type": "code",
   "execution_count": 36,
   "metadata": {},
   "outputs": [
    {
     "name": "stdout",
     "output_type": "stream",
     "text": [
      "True Positive for schizophrenia  313 \n",
      " False Negative for schizophrenia  265 \n",
      " False Positive For Healthy  204 \n",
      " True Neagtive For Healthy  637 \n",
      "\n"
     ]
    }
   ],
   "source": [
    "print(\n",
    "    \"True Positive for schizophrenia \", confusion_matr_cnn[0, 0], \"\\n\",\n",
    "    \"False Negative for schizophrenia \", confusion_matr_cnn[0, 1], \"\\n\",\n",
    "    \"False Positive For Healthy \", confusion_matr_cnn[1, 0], \"\\n\",\n",
    "    \"True Neagtive For Healthy \", confusion_matr_cnn[1, 1], \"\\n\")"
   ]
  },
  {
   "cell_type": "code",
   "execution_count": 37,
   "metadata": {},
   "outputs": [
    {
     "data": {
      "text/plain": [
       "(313, 204, 265, 637)"
      ]
     },
     "execution_count": 37,
     "metadata": {},
     "output_type": "execute_result"
    }
   ],
   "source": [
    "TP_cnn = confusion_matr_cnn[0, 0]\n",
    "FN_cnn = confusion_matr_cnn[0, 1]\n",
    "FP_cnn = confusion_matr_cnn[1, 0]\n",
    "TN_cnn = confusion_matr_cnn[1, 1]\n",
    "TP_cnn, FP_cnn, FN_cnn, TN_cnn"
   ]
  },
  {
   "cell_type": "code",
   "execution_count": 38,
   "metadata": {},
   "outputs": [
    {
     "data": {
      "text/plain": [
       "0.5415224913494809"
      ]
     },
     "execution_count": 38,
     "metadata": {},
     "output_type": "execute_result"
    }
   ],
   "source": [
    "sensitivity_cnn = TP_cnn / (TP_cnn + FN_cnn)\n",
    "sensitivity_cnn"
   ]
  },
  {
   "cell_type": "code",
   "execution_count": 39,
   "metadata": {},
   "outputs": [
    {
     "data": {
      "text/plain": [
       "0.7574316290130797"
      ]
     },
     "execution_count": 39,
     "metadata": {},
     "output_type": "execute_result"
    }
   ],
   "source": [
    "specificity_cnn = TN_cnn / (TN_cnn + FP_cnn)\n",
    "specificity_cnn"
   ]
  },
  {
   "cell_type": "code",
   "execution_count": 41,
   "metadata": {},
   "outputs": [
    {
     "name": "stdout",
     "output_type": "stream",
     "text": [
      "F1 Score: 0.73\n",
      "Precision: 0.71\n",
      "Recall: 0.76\n"
     ]
    }
   ],
   "source": [
    "from sklearn.metrics import f1_score, precision_score, recall_score\n",
    "# Calculate F1 score, precision and recall scores\n",
    "f1_cnn = f1_score(Y_test_norm, np.round(y_pred_cnn[:, 1]))\n",
    "precision_cnn = precision_score(Y_test_norm, np.round(y_pred_cnn[:, 1]))\n",
    "recall_cnn = recall_score(Y_test_norm, np.round(y_pred_cnn[:, 1]))\n",
    "\n",
    "print(\"F1 Score: {:.2f}\".format(f1_cnn))\n",
    "print(\"Precision: {:.2f}\".format(precision_cnn))\n",
    "print(\"Recall: {:.2f}\".format(recall_cnn))"
   ]
  },
  {
   "cell_type": "markdown",
   "metadata": {},
   "source": [
    "LSTM"
   ]
  },
  {
   "cell_type": "code",
   "execution_count": 42,
   "metadata": {},
   "outputs": [
    {
     "name": "stdout",
     "output_type": "stream",
     "text": [
      "Epoch 1/15\n",
      "334/334 [==============================] - 18s 36ms/step - loss: 0.6774 - accuracy: 0.5969 - val_loss: 0.6764 - val_accuracy: 0.5927\n",
      "Epoch 2/15\n",
      "334/334 [==============================] - 12s 37ms/step - loss: 0.6714 - accuracy: 0.5981 - val_loss: 0.6745 - val_accuracy: 0.5927\n",
      "Epoch 3/15\n",
      "334/334 [==============================] - 12s 36ms/step - loss: 0.6634 - accuracy: 0.5967 - val_loss: 0.6770 - val_accuracy: 0.5758\n",
      "Epoch 4/15\n",
      "334/334 [==============================] - 12s 35ms/step - loss: 0.6575 - accuracy: 0.5972 - val_loss: 0.6706 - val_accuracy: 0.5927\n",
      "Epoch 5/15\n",
      "334/334 [==============================] - 13s 40ms/step - loss: 0.6439 - accuracy: 0.6154 - val_loss: 0.6732 - val_accuracy: 0.5793\n",
      "Epoch 6/15\n",
      "334/334 [==============================] - 19s 56ms/step - loss: 0.6317 - accuracy: 0.6291 - val_loss: 0.6566 - val_accuracy: 0.6110\n",
      "Epoch 7/15\n",
      "334/334 [==============================] - 16s 49ms/step - loss: 0.6110 - accuracy: 0.6450 - val_loss: 0.6678 - val_accuracy: 0.6018\n",
      "Epoch 8/15\n",
      "334/334 [==============================] - 16s 48ms/step - loss: 0.5896 - accuracy: 0.6693 - val_loss: 0.6533 - val_accuracy: 0.6173\n",
      "Epoch 9/15\n",
      "334/334 [==============================] - 16s 49ms/step - loss: 0.5672 - accuracy: 0.6834 - val_loss: 0.6505 - val_accuracy: 0.6145\n",
      "Epoch 10/15\n",
      "334/334 [==============================] - 16s 47ms/step - loss: 0.5349 - accuracy: 0.7109 - val_loss: 0.6622 - val_accuracy: 0.6342\n",
      "Epoch 11/15\n",
      "334/334 [==============================] - 16s 47ms/step - loss: 0.5138 - accuracy: 0.7282 - val_loss: 0.7218 - val_accuracy: 0.6089\n",
      "Epoch 12/15\n",
      "334/334 [==============================] - 16s 48ms/step - loss: 0.4779 - accuracy: 0.7523 - val_loss: 0.7371 - val_accuracy: 0.6039\n",
      "Epoch 13/15\n",
      "334/334 [==============================] - 16s 47ms/step - loss: 0.4470 - accuracy: 0.7790 - val_loss: 0.7118 - val_accuracy: 0.6237\n",
      "Epoch 14/15\n",
      "334/334 [==============================] - 16s 48ms/step - loss: 0.4135 - accuracy: 0.7982 - val_loss: 0.7753 - val_accuracy: 0.6251\n",
      "Epoch 15/15\n",
      "334/334 [==============================] - 17s 50ms/step - loss: 0.3794 - accuracy: 0.8176 - val_loss: 0.7860 - val_accuracy: 0.6216\n"
     ]
    }
   ],
   "source": [
    "from keras.optimizers import Adam\n",
    "model=tf.keras.models.Sequential([\n",
    "    tf.keras.layers.LSTM(64, input_shape=(X_train_2d.shape[1],X_train_2d.shape[2])),\n",
    "    tf.keras.layers.Dense(317,activation='relu'),\n",
    "    tf.keras.layers.Dense(2,activation='softmax')\n",
    "])\n",
    "\n",
    "opt = Adam(0.001)\n",
    "model.compile(optimizer=opt,\n",
    "              loss=tf.keras.losses.sparse_categorical_crossentropy,\n",
    "              metrics=['accuracy']\n",
    "              )\n",
    "    \n",
    "his=model.fit(X_train_2d,Y_train_norm,batch_size=17,verbose=1,shuffle=True,epochs=15,validation_data=(X_test_2d, Y_test_norm))\n",
    "acc=his.history['accuracy']"
   ]
  },
  {
   "cell_type": "code",
   "execution_count": 43,
   "metadata": {},
   "outputs": [
    {
     "data": {
      "image/png": "[encoded data removed]",
      "text/plain": [
       "<Figure size 640x480 with 1 Axes>"
      ]
     },
     "metadata": {},
     "output_type": "display_data"
    }
   ],
   "source": [
    "plt.plot(his.history['accuracy'])\n",
    "plt.plot(his.history['val_accuracy'])\n",
    "plt.title('model accuracy')\n",
    "plt.ylabel('acc')\n",
    "plt.xlabel('epoch')\n",
    "plt.legend(['train', 'test'], loc='upper left')\n",
    "plt.show()"
   ]
  },
  {
   "cell_type": "code",
   "execution_count": 44,
   "metadata": {},
   "outputs": [
    {
     "data": {
      "image/png": "[encoded data removed]",
      "text/plain": [
       "<Figure size 640x480 with 1 Axes>"
      ]
     },
     "metadata": {},
     "output_type": "display_data"
    }
   ],
   "source": [
    "plt.plot(his.history['loss'])\n",
    "plt.plot(his.history['val_loss'])\n",
    "plt.title('model loss')\n",
    "plt.ylabel('loss')\n",
    "plt.xlabel('epoch')\n",
    "plt.legend(['train', 'test'], loc='upper left')\n",
    "plt.show()"
   ]
  },
  {
   "cell_type": "code",
   "execution_count": 45,
   "metadata": {},
   "outputs": [
    {
     "name": "stdout",
     "output_type": "stream",
     "text": [
      "45/45 [==============================] - 2s 34ms/step - loss: 0.7860 - accuracy: 0.6216\n",
      "Val accuracy=0.621564507484436  val loss=0.7860470414161682\n"
     ]
    }
   ],
   "source": [
    "loss, accuracy = model.evaluate(X_test_2d, Y_test_norm)\n",
    "print(f\"Val accuracy={accuracy}  val loss={loss}\")"
   ]
  },
  {
   "cell_type": "code",
   "execution_count": 46,
   "metadata": {},
   "outputs": [
    {
     "name": "stdout",
     "output_type": "stream",
     "text": [
      "45/45 [==============================] - 3s 44ms/step\n",
      "Y_test_norm shape: (1419,)\n",
      "y_pred shape: (1419, 2)\n"
     ]
    },
    {
     "data": {
      "text/plain": [
       "<sklearn.metrics._plot.confusion_matrix.ConfusionMatrixDisplay at 0x2ed55567650>"
      ]
     },
     "execution_count": 46,
     "metadata": {},
     "output_type": "execute_result"
    },
    {
     "data": {
      "image/png": "[encoded data removed]",
      "text/plain": [
       "<Figure size 640x480 with 2 Axes>"
      ]
     },
     "metadata": {},
     "output_type": "display_data"
    }
   ],
   "source": [
    "from sklearn.metrics import confusion_matrix, ConfusionMatrixDisplay\n",
    "\n",
    "# Assuming Y_test_norm is not one-hot encoded\n",
    "y_pred_lstm = np.round(model.predict(X_test_2d))\n",
    "\n",
    "# Check the dimensions of Y_test_norm and y_pred\n",
    "print(\"Y_test_norm shape:\", Y_test_norm.shape)\n",
    "print(\"y_pred shape:\", y_pred_lstm.shape)\n",
    "\n",
    "# Use Y_test_norm directly for confusion matrix\n",
    "confusion_matr_lstm = confusion_matrix(Y_test_norm, np.round(y_pred_lstm[:, 1]))\n",
    "cm_display = ConfusionMatrixDisplay(confusion_matrix=confusion_matr_lstm, display_labels=('positive','negative'))\n",
    "cm_display.plot()"
   ]
  },
  {
   "cell_type": "code",
   "execution_count": 47,
   "metadata": {},
   "outputs": [
    {
     "name": "stdout",
     "output_type": "stream",
     "text": [
      "True Positive for schizophrenia  327 \n",
      " False Negative for schizophrenia  251 \n",
      " False Positive For Healthy  286 \n",
      " True Neagtive For Healthy  555 \n",
      "\n"
     ]
    }
   ],
   "source": [
    "print(\n",
    "    \"True Positive for schizophrenia \", confusion_matr_lstm[0, 0], \"\\n\",\n",
    "    \"False Negative for schizophrenia \", confusion_matr_lstm[0, 1], \"\\n\",\n",
    "    \"False Positive For Healthy \", confusion_matr_lstm[1, 0], \"\\n\",\n",
    "    \"True Neagtive For Healthy \", confusion_matr_lstm[1, 1], \"\\n\")"
   ]
  },
  {
   "cell_type": "code",
   "execution_count": 48,
   "metadata": {},
   "outputs": [
    {
     "data": {
      "text/plain": [
       "(327, 286, 251, 555)"
      ]
     },
     "execution_count": 48,
     "metadata": {},
     "output_type": "execute_result"
    }
   ],
   "source": [
    "TP_lstm = confusion_matr_lstm[0, 0]\n",
    "FN_lstm = confusion_matr_lstm[0, 1]\n",
    "FP_lstm = confusion_matr_lstm[1, 0]\n",
    "TN_lstm = confusion_matr_lstm[1, 1]\n",
    "TP_lstm, FP_lstm, FN_lstm, TN_lstm"
   ]
  },
  {
   "cell_type": "code",
   "execution_count": 49,
   "metadata": {},
   "outputs": [
    {
     "data": {
      "text/plain": [
       "0.5657439446366782"
      ]
     },
     "execution_count": 49,
     "metadata": {},
     "output_type": "execute_result"
    }
   ],
   "source": [
    "sensitivity_lstm = TP_lstm / (TP_lstm + FN_lstm)\n",
    "sensitivity_lstm"
   ]
  },
  {
   "cell_type": "code",
   "execution_count": 51,
   "metadata": {},
   "outputs": [
    {
     "data": {
      "text/plain": [
       "0.6599286563614745"
      ]
     },
     "execution_count": 51,
     "metadata": {},
     "output_type": "execute_result"
    }
   ],
   "source": [
    "specificity_lstm = TN_lstm / (TN_lstm + FP_lstm)\n",
    "specificity_lstm"
   ]
  },
  {
   "cell_type": "code",
   "execution_count": 52,
   "metadata": {},
   "outputs": [
    {
     "name": "stdout",
     "output_type": "stream",
     "text": [
      "F1 Score: 0.67\n",
      "Precision: 0.69\n",
      "Recall: 0.66\n"
     ]
    }
   ],
   "source": [
    "from sklearn.metrics import f1_score, precision_score, recall_score\n",
    "# Calculate F1 score, precision and recall scores\n",
    "f1_lstm = f1_score(Y_test_norm, np.round(y_pred_lstm[:, 1]))\n",
    "precision_lstm = precision_score(Y_test_norm, np.round(y_pred_lstm[:, 1]))\n",
    "recall_lstm = recall_score(Y_test_norm, np.round(y_pred_lstm[:, 1]))\n",
    "\n",
    "print(\"F1 Score: {:.2f}\".format(f1_lstm))\n",
    "print(\"Precision: {:.2f}\".format(precision_lstm))\n",
    "print(\"Recall: {:.2f}\".format(recall_lstm))"
   ]
  },
  {
   "cell_type": "markdown",
   "metadata": {},
   "source": [
    "CNN + LSTM hybrid"
   ]
  },
  {
   "cell_type": "code",
   "execution_count": null,
   "metadata": {},
   "outputs": [],
   "source": [
    "from keras.layers import Reshape\n",
    "from keras.optimizers import Adam\n",
    "model=tf.keras.models.Sequential([\n",
    "    # CNN layers for spatial feature extraction\n",
    "    tf.keras.layers.Conv2D(32, (3,3), activation='relu', input_shape=(X_train_2d.shape[1],X_test_2d.shape[2],1)),\n",
    "    tf.keras.layers.MaxPooling2D(pool_size=(2,2)),\n",
    "    tf.keras.layers.Flatten(),\n",
    "    Reshape((-1, 32)),\n",
    "    # LSTM layers for temporal sequence processing\n",
    "    tf.keras.layers.LSTM(32, return_sequences=True),\n",
    "    tf.keras.layers.LSTM(32),\n",
    "    tf.keras.layers.Dense(317,activation='relu'),\n",
    "    tf.keras.layers.Dense(2,activation='softmax')\n",
    "])\n",
    "\n",
    "opt = Adam(0.001)\n",
    "model.compile(optimizer=opt,\n",
    "              loss=tf.keras.losses.sparse_categorical_crossentropy,\n",
    "              metrics=['accuracy']\n",
    "              )\n",
    "    \n",
    "his=model.fit(X_train_2d,Y_train_norm,batch_size=30,verbose=1,shuffle=True,epochs=10,validation_data=(X_test_2d, Y_test_norm))\n",
    "acc=his.history['accuracy']"
   ]
  },
  {
   "cell_type": "code",
   "execution_count": null,
   "metadata": {},
   "outputs": [],
   "source": []
  }
 ],
 "metadata": {
  "kernelspec": {
   "display_name": "Python 3",
   "language": "python",
   "name": "python3"
  },
  "language_info": {
   "codemirror_mode": {
    "name": "ipython",
    "version": 3
   },
   "file_extension": ".py",
   "mimetype": "text/x-python",
   "name": "python",
   "nbconvert_exporter": "python",
   "pygments_lexer": "ipython3",
   "version": "3.11.1"
  }
 },
 "nbformat": 4,
 "nbformat_minor": 2
}
